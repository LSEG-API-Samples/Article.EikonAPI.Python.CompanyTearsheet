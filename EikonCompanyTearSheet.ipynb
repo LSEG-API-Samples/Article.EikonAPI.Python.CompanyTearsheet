{
 "cells": [
  {
   "cell_type": "markdown",
   "metadata": {},
   "source": [
    "# REFINITIV COMPANY TEARSHEET"
   ]
  },
  {
   "cell_type": "code",
   "execution_count": 194,
   "metadata": {},
   "outputs": [
    {
     "name": "stdout",
     "output_type": "stream",
     "text": [
      "IBM\n"
     ]
    }
   ],
   "source": [
    "RIC = input()\n",
    "# print(RIC)"
   ]
  },
  {
   "cell_type": "code",
   "execution_count": 260,
   "metadata": {},
   "outputs": [],
   "source": [
    "# Import module and set up with App Key\n",
    "import eikon as ek\n",
    "ek.set_app_key('8a0a51d096f34eec86dadab1763ad94dae81c80e')\n",
    "import pandas as pd "
   ]
  },
  {
   "cell_type": "code",
   "execution_count": 261,
   "metadata": {},
   "outputs": [
    {
     "data": {
      "text/html": [
       "<div>\n",
       "<style scoped>\n",
       "    .dataframe tbody tr th:only-of-type {\n",
       "        vertical-align: middle;\n",
       "    }\n",
       "\n",
       "    .dataframe tbody tr th {\n",
       "        vertical-align: top;\n",
       "    }\n",
       "\n",
       "    .dataframe thead th {\n",
       "        text-align: right;\n",
       "    }\n",
       "</style>\n",
       "<table border=\"1\" class=\"dataframe\">\n",
       "  <thead>\n",
       "    <tr style=\"text-align: right;\">\n",
       "      <th></th>\n",
       "      <th>Instrument</th>\n",
       "      <th>Company Common Name</th>\n",
       "      <th>Country of Headquarters</th>\n",
       "      <th>TRBC Industry Group Name</th>\n",
       "      <th>GICS Sector Name</th>\n",
       "      <th>Currency</th>\n",
       "      <th>Exchange Name</th>\n",
       "    </tr>\n",
       "  </thead>\n",
       "  <tbody>\n",
       "    <tr>\n",
       "      <th>0</th>\n",
       "      <td>IBM</td>\n",
       "      <td>International Business Machines Corp</td>\n",
       "      <td>United States of America</td>\n",
       "      <td>Software &amp; IT Services</td>\n",
       "      <td>Information Technology</td>\n",
       "      <td>USD</td>\n",
       "      <td>NEW YORK STOCK EXCHANGE, INC.</td>\n",
       "    </tr>\n",
       "  </tbody>\n",
       "</table>\n",
       "</div>"
      ],
      "text/plain": [
       "  Instrument                   Company Common Name   Country of Headquarters  \\\n",
       "0        IBM  International Business Machines Corp  United States of America   \n",
       "\n",
       "  TRBC Industry Group Name        GICS Sector Name Currency  \\\n",
       "0   Software & IT Services  Information Technology      USD   \n",
       "\n",
       "                   Exchange Name  \n",
       "0  NEW YORK STOCK EXCHANGE, INC.  "
      ]
     },
     "execution_count": 261,
     "metadata": {},
     "output_type": "execute_result"
    }
   ],
   "source": [
    "# Request Header Information for RIC \n",
    "df, err = ek.get_data(RIC, \"TR.CommonName(),TR.HeadquartersCountry,TR.TRBCIndustryGroup,TR.GICSSector,TR.CompanyMarketCap.Currency\")\n",
    "#Request Exchange for Primary Quote RIC\n",
    "df_2, err = ek.get_data(RIC,\"TR.PrimaryQuote\")\n",
    "df_3, err = ek.get_data(df_2.at[0,'Primary Quote RIC'],\"TR.ExchangeName\")  \n",
    "df['Exchange Name'] = [df_3.at[0,'Exchange Name']]\n",
    "df"
   ]
  },
  {
   "cell_type": "markdown",
   "metadata": {},
   "source": [
    "## General Information"
   ]
  },
  {
   "cell_type": "code",
   "execution_count": 159,
   "metadata": {},
   "outputs": [
    {
     "data": {
      "text/html": [
       "<div>\n",
       "<style scoped>\n",
       "    .dataframe tbody tr th:only-of-type {\n",
       "        vertical-align: middle;\n",
       "    }\n",
       "\n",
       "    .dataframe tbody tr th {\n",
       "        vertical-align: top;\n",
       "    }\n",
       "\n",
       "    .dataframe thead th {\n",
       "        text-align: right;\n",
       "    }\n",
       "</style>\n",
       "<table border=\"1\" class=\"dataframe\">\n",
       "  <thead>\n",
       "    <tr style=\"text-align: right;\">\n",
       "      <th></th>\n",
       "      <th>Instrument</th>\n",
       "      <th>Price Close</th>\n",
       "      <th>Price 52 Week High</th>\n",
       "      <th>52-week High Price PCT Change</th>\n",
       "      <th>Price 52 Week Low</th>\n",
       "      <th>52-week Low Price PCT Change</th>\n",
       "      <th>Price Target - Median</th>\n",
       "    </tr>\n",
       "  </thead>\n",
       "  <tbody>\n",
       "    <tr>\n",
       "      <th>0</th>\n",
       "      <td>IBM</td>\n",
       "      <td>102.81</td>\n",
       "      <td>158.75</td>\n",
       "      <td>-35.237795</td>\n",
       "      <td>102.28</td>\n",
       "      <td>0.518185</td>\n",
       "      <td>152.5</td>\n",
       "    </tr>\n",
       "  </tbody>\n",
       "</table>\n",
       "</div>"
      ],
      "text/plain": [
       "  Instrument  Price Close  Price 52 Week High  52-week High Price PCT Change  \\\n",
       "0        IBM       102.81              158.75                     -35.237795   \n",
       "\n",
       "   Price 52 Week Low  52-week Low Price PCT Change  Price Target - Median  \n",
       "0             102.28                      0.518185                  152.5  "
      ]
     },
     "metadata": {},
     "output_type": "display_data"
    },
    {
     "data": {
      "text/html": [
       "<div>\n",
       "<style scoped>\n",
       "    .dataframe tbody tr th:only-of-type {\n",
       "        vertical-align: middle;\n",
       "    }\n",
       "\n",
       "    .dataframe tbody tr th {\n",
       "        vertical-align: top;\n",
       "    }\n",
       "\n",
       "    .dataframe thead th {\n",
       "        text-align: right;\n",
       "    }\n",
       "</style>\n",
       "<table border=\"1\" class=\"dataframe\">\n",
       "  <thead>\n",
       "    <tr style=\"text-align: right;\">\n",
       "      <th></th>\n",
       "      <th>Instrument</th>\n",
       "      <th>Beta 5 Year</th>\n",
       "      <th>Dividend yield</th>\n",
       "      <th>Outstanding Shares</th>\n",
       "      <th>Free Float</th>\n",
       "      <th>Free Float (Percent)</th>\n",
       "      <th>Company Market Cap</th>\n",
       "      <th>Enterprise Value (Daily Time Series)</th>\n",
       "    </tr>\n",
       "  </thead>\n",
       "  <tbody>\n",
       "    <tr>\n",
       "      <th>0</th>\n",
       "      <td>IBM</td>\n",
       "      <td>1.406707</td>\n",
       "      <td>5.492922</td>\n",
       "      <td>888.408023</td>\n",
       "      <td>887.410463</td>\n",
       "      <td>99.8877</td>\n",
       "      <td>91337.228845</td>\n",
       "      <td>145512.228845</td>\n",
       "    </tr>\n",
       "  </tbody>\n",
       "</table>\n",
       "</div>"
      ],
      "text/plain": [
       "  Instrument  Beta 5 Year  Dividend yield  Outstanding Shares  Free Float  \\\n",
       "0        IBM     1.406707        5.492922          888.408023  887.410463   \n",
       "\n",
       "   Free Float (Percent)  Company Market Cap  \\\n",
       "0               99.8877        91337.228845   \n",
       "\n",
       "   Enterprise Value (Daily Time Series)  \n",
       "0                         145512.228845  "
      ]
     },
     "metadata": {},
     "output_type": "display_data"
    }
   ],
   "source": [
    "dfGen, err = ek.get_data(RIC, 'TR.PriceClose;TR.Price52WeekHigh;TR.PricePctChg52WkHigh;TR.Price52WeekLow;TR.PricePctChg52WkLow;TR.PriceTargetMedian',{'Curn':df.at[0,'Currency'],'Transpose':'y'})\n",
    "dfGen2, err = ek.get_data( RIC, 'TR.BetaFiveYear;TR.DividendYield;TR.SharesOutstanding;TR.FreeFloat;TR.FreeFloatPct();TR.CompanyMarketCap;TR.EV',{'Scale':6,'Curn':df.at[0,'Currency'],'transpose':'y'})\n",
    "display(dfGen,dfGen2)"
   ]
  },
  {
   "cell_type": "markdown",
   "metadata": {},
   "source": [
    "## Consensus Recommendation"
   ]
  },
  {
   "cell_type": "code",
   "execution_count": 160,
   "metadata": {},
   "outputs": [
    {
     "data": {
      "text/html": [
       "<div>\n",
       "<style scoped>\n",
       "    .dataframe tbody tr th:only-of-type {\n",
       "        vertical-align: middle;\n",
       "    }\n",
       "\n",
       "    .dataframe tbody tr th {\n",
       "        vertical-align: top;\n",
       "    }\n",
       "\n",
       "    .dataframe thead th {\n",
       "        text-align: right;\n",
       "    }\n",
       "</style>\n",
       "<table border=\"1\" class=\"dataframe\">\n",
       "  <thead>\n",
       "    <tr style=\"text-align: right;\">\n",
       "      <th></th>\n",
       "      <th>Instrument</th>\n",
       "      <th>Recommendation - Mean Label</th>\n",
       "      <th>Recommendation - Number Of Total</th>\n",
       "      <th>Number of Analysts Revising Up</th>\n",
       "      <th>Number of Analysts Revising Down</th>\n",
       "    </tr>\n",
       "  </thead>\n",
       "  <tbody>\n",
       "    <tr>\n",
       "      <th>0</th>\n",
       "      <td>IBM</td>\n",
       "      <td>HOLD</td>\n",
       "      <td>20</td>\n",
       "      <td>1</td>\n",
       "      <td>1</td>\n",
       "    </tr>\n",
       "  </tbody>\n",
       "</table>\n",
       "</div>"
      ],
      "text/plain": [
       "  Instrument Recommendation - Mean Label  Recommendation - Number Of Total  \\\n",
       "0        IBM                        HOLD                                20   \n",
       "\n",
       "   Number of Analysts Revising Up  Number of Analysts Revising Down  \n",
       "0                               1                                 1  "
      ]
     },
     "execution_count": 160,
     "metadata": {},
     "output_type": "execute_result"
    }
   ],
   "source": [
    "df6, err = ek.get_data(RIC, 'TR.RecLabel();TR.NumOfRecommendations();TR.NumEstRevisingUp;TR.NumEstRevisingDown',{'WP':'30d','EstimateMeasure':'EPS'})\n",
    "df6"
   ]
  },
  {
   "cell_type": "markdown",
   "metadata": {},
   "source": [
    "## Estimates"
   ]
  },
  {
   "cell_type": "code",
   "execution_count": 161,
   "metadata": {},
   "outputs": [],
   "source": [
    "#Retrieve Estimates into Data Frames per Period\n",
    "\n",
    "#FY0\n",
    "dfFY0, err = ek.get_data(RIC, 'TR.RevenueActValue;TR.EBITDAActValue;TR.EPSActValue',\n",
    "                       {'Period':'FY0', 'Scale':'6', 'Curn':df.at[0,'Currency']})\n",
    "#FY1\n",
    "dfFY1, err = ek.get_data(RIC, \n",
    "'TR.RevenueMeanEstimate;TR.RevenueHigh;TR.RevenueLow;TR.EBITDAMean;TR.EBITDAHigh;TR.EBITDALow;TR.EPSMeanEstimate;TR.EPSHigh;TR.EPSLow',\n",
    "                       {'Period':'FY1', 'scale':'6', 'curn':df.at[0,'Currency']})\n",
    "dfFY1_2, err = ek.get_data(RIC, \n",
    "                           'TR.RevenueMeanEstimate; TR.EBITDAMean; TR.EPSMeanEstimate',\n",
    "    {'Period':'FY1','RollPeriods':'false','Scale': 6,'Curn':df.at[0,'Currency'],'SDate':'-1AM'})\n",
    "#FY2\n",
    "dfFY2, err = ek.get_data(RIC, \n",
    "'TR.RevenueMeanEstimate;TR.RevenueHigh;TR.RevenueLow;TR.EBITDAMean;TR.EBITDAHigh;TR.EBITDALow;TR.EPSMeanEstimate;TR.EPSHigh;TR.EPSLow',\n",
    "                       {'Period':'FY2', 'scale':'6', 'curn':df.at[0,'Currency']})\n",
    "dfFY2_2, err = ek.get_data(RIC, 'TR.RevenueMeanEstimate;TR.EBITDAMean;TR.EPSMeanEstimate',\n",
    "    {'Period':'FY2','RollPeriods':'false','Scale': 6,'Curn':df.at[0,'Currency'],'SDate':'-1AM'})\n",
    "\n",
    "### DEBUG display(dfFY0,dfFY1,dfFY1_2, dfFY2, dfFY2_2)"
   ]
  },
  {
   "cell_type": "code",
   "execution_count": 162,
   "metadata": {},
   "outputs": [
    {
     "data": {
      "text/html": [
       "<div>\n",
       "<style scoped>\n",
       "    .dataframe tbody tr th:only-of-type {\n",
       "        vertical-align: middle;\n",
       "    }\n",
       "\n",
       "    .dataframe tbody tr th {\n",
       "        vertical-align: top;\n",
       "    }\n",
       "\n",
       "    .dataframe thead th {\n",
       "        text-align: right;\n",
       "    }\n",
       "</style>\n",
       "<table border=\"1\" class=\"dataframe\">\n",
       "  <thead>\n",
       "    <tr style=\"text-align: right;\">\n",
       "      <th></th>\n",
       "      <th>Sales (MIL) Mean EST</th>\n",
       "      <th>High Est</th>\n",
       "      <th>Low Est</th>\n",
       "      <th>Est. 30 30 Days Ago</th>\n",
       "      <th>EBITDA (MIL) Mean Est.</th>\n",
       "      <th>High Est.</th>\n",
       "      <th>Low Est.</th>\n",
       "      <th>Est. 30 30 Days Ago.</th>\n",
       "      <th>EPS Mean Est.</th>\n",
       "      <th>High Est..</th>\n",
       "      <th>Low Est..</th>\n",
       "      <th>Est. 30 30 Days Ago..</th>\n",
       "    </tr>\n",
       "  </thead>\n",
       "  <tbody>\n",
       "    <tr>\n",
       "      <th>FY0 (Actual)</th>\n",
       "      <td>77147</td>\n",
       "      <td></td>\n",
       "      <td></td>\n",
       "      <td></td>\n",
       "      <td>19029</td>\n",
       "      <td></td>\n",
       "      <td></td>\n",
       "      <td></td>\n",
       "      <td>12.81</td>\n",
       "      <td></td>\n",
       "      <td></td>\n",
       "      <td></td>\n",
       "    </tr>\n",
       "    <tr>\n",
       "      <th>FY1 (Current Year)</th>\n",
       "      <td>78673.9</td>\n",
       "      <td>80600</td>\n",
       "      <td>75524</td>\n",
       "      <td>78837.7</td>\n",
       "      <td>18946.7</td>\n",
       "      <td>21202</td>\n",
       "      <td>16779</td>\n",
       "      <td>19005.3</td>\n",
       "      <td>13.3325</td>\n",
       "      <td>13.62</td>\n",
       "      <td>12.5</td>\n",
       "      <td>13.3715</td>\n",
       "    </tr>\n",
       "    <tr>\n",
       "      <th>% above/below mean</th>\n",
       "      <td></td>\n",
       "      <td>2.44816</td>\n",
       "      <td>-4.00378</td>\n",
       "      <td>0.208212</td>\n",
       "      <td></td>\n",
       "      <td>11.9034</td>\n",
       "      <td>-11.4411</td>\n",
       "      <td>0.309289</td>\n",
       "      <td></td>\n",
       "      <td>2.15623</td>\n",
       "      <td>-6.24428</td>\n",
       "      <td>0.292368</td>\n",
       "    </tr>\n",
       "    <tr>\n",
       "      <th>FY2 (Next Year)</th>\n",
       "      <td>79982.3</td>\n",
       "      <td>83400</td>\n",
       "      <td>75661</td>\n",
       "      <td>80159.2</td>\n",
       "      <td>19958</td>\n",
       "      <td>21997</td>\n",
       "      <td>17034</td>\n",
       "      <td>20015.7</td>\n",
       "      <td>14.152</td>\n",
       "      <td>14.7</td>\n",
       "      <td>13.5</td>\n",
       "      <td>14.1767</td>\n",
       "    </tr>\n",
       "    <tr>\n",
       "      <th>% above/below mean</th>\n",
       "      <td></td>\n",
       "      <td>4.27303</td>\n",
       "      <td>-5.40285</td>\n",
       "      <td>0.221179</td>\n",
       "      <td></td>\n",
       "      <td>10.2165</td>\n",
       "      <td>-14.6507</td>\n",
       "      <td>0.289107</td>\n",
       "      <td></td>\n",
       "      <td>3.87188</td>\n",
       "      <td>-4.60746</td>\n",
       "      <td>0.17425</td>\n",
       "    </tr>\n",
       "  </tbody>\n",
       "</table>\n",
       "</div>"
      ],
      "text/plain": [
       "                   Sales (MIL) Mean EST High Est  Low Est Est. 30 30 Days Ago  \\\n",
       "FY0 (Actual)                      77147                                         \n",
       "FY1 (Current Year)              78673.9    80600    75524             78837.7   \n",
       "% above/below mean                       2.44816 -4.00378            0.208212   \n",
       "FY2 (Next Year)                 79982.3    83400    75661             80159.2   \n",
       "% above/below mean                       4.27303 -5.40285            0.221179   \n",
       "\n",
       "                   EBITDA (MIL) Mean Est. High Est. Low Est.  \\\n",
       "FY0 (Actual)                        19029                      \n",
       "FY1 (Current Year)                18946.7     21202    16779   \n",
       "% above/below mean                          11.9034 -11.4411   \n",
       "FY2 (Next Year)                     19958     21997    17034   \n",
       "% above/below mean                          10.2165 -14.6507   \n",
       "\n",
       "                   Est. 30 30 Days Ago. EPS Mean Est. High Est.. Low Est..  \\\n",
       "FY0 (Actual)                                    12.81                        \n",
       "FY1 (Current Year)              19005.3       13.3325      13.62      12.5   \n",
       "% above/below mean             0.309289                  2.15623  -6.24428   \n",
       "FY2 (Next Year)                 20015.7        14.152       14.7      13.5   \n",
       "% above/below mean             0.289107                  3.87188  -4.60746   \n",
       "\n",
       "                   Est. 30 30 Days Ago..  \n",
       "FY0 (Actual)                              \n",
       "FY1 (Current Year)               13.3715  \n",
       "% above/below mean              0.292368  \n",
       "FY2 (Next Year)                  14.1767  \n",
       "% above/below mean               0.17425  "
      ]
     },
     "execution_count": 162,
     "metadata": {},
     "output_type": "execute_result"
    }
   ],
   "source": [
    "#Create a dictionary out of results, and structure a single multi-row Data Frame\n",
    "\n",
    "# initialise results per column \n",
    "data = {'Sales (MIL) Mean EST':\n",
    "        [dfFY0.at[0,'Revenue - Actual'], dfFY1.at[0,'Revenue - Mean Estimate'],'',dfFY2.at[0,'Revenue - Mean Estimate'],''],\n",
    "       'High Est':\n",
    "       ['',dfFY1.at[0,'Revenue - High'],(dfFY1.at[0,'Revenue - High']/dfFY1.at[0,'Revenue - Mean Estimate']-1)*100,\n",
    "        dfFY2.at[0,'Revenue - High'],(dfFY2.at[0,'Revenue - High']/dfFY2.at[0,'Revenue - Mean Estimate']-1)*100],\n",
    "       'Low Est':\n",
    "       ['',dfFY1.at[0,'Revenue - Low'],(dfFY1.at[0,'Revenue - Low']/dfFY1.at[0,'Revenue - Mean Estimate']-1)*100,\n",
    "        dfFY2.at[0,'Revenue - Low'],(dfFY2.at[0,'Revenue - Low']/dfFY2.at[0,'Revenue - Mean Estimate']-1)*100],\n",
    "       'Est. 30 30 Days Ago':\n",
    "       ['',dfFY1_2.at[0,'Revenue - Mean Estimate'],(dfFY1_2.at[0,'Revenue - Mean Estimate']/dfFY1.at[0,'Revenue - Mean Estimate']-1)*100,\n",
    "        dfFY2_2.at[0,'Revenue - Mean Estimate'],(dfFY2_2.at[0,'Revenue - Mean Estimate']/dfFY2.at[0,'Revenue - Mean Estimate']-1)*100],\n",
    "       'EBITDA (MIL) Mean Est.':\n",
    "        [dfFY0.at[0,'EBITDA - Actual'],dfFY1.at[0,'EBITDA - Mean'],'',dfFY2.at[0,'EBITDA - Mean'],''],\n",
    "        'High Est.':\n",
    "        ['',dfFY1.at[0,'EBITDA - High'],(dfFY1.at[0,'EBITDA - High']/dfFY1.at[0,'EBITDA - Mean']-1)*100,\n",
    "         dfFY2.at[0,'EBITDA - High'],(dfFY2.at[0,'EBITDA - High']/dfFY2.at[0,'EBITDA - Mean']-1)*100],\n",
    "        'Low Est.':\n",
    "        ['',dfFY1.at[0,'EBITDA - Low'],(dfFY1.at[0,'EBITDA - Low']/dfFY1.at[0,'EBITDA - Mean']-1)*100,\n",
    "         dfFY2.at[0,'EBITDA - Low'],(dfFY2.at[0,'EBITDA - Low']/dfFY2.at[0,'EBITDA - Mean']-1)*100],\n",
    "        'Est. 30 30 Days Ago.':\n",
    "       ['',dfFY1_2.at[0,'EBITDA - Mean'],(dfFY1_2.at[0,'EBITDA - Mean']/dfFY1.at[0,'EBITDA - Mean']-1)*100,\n",
    "        dfFY2_2.at[0,'EBITDA - Mean'],(dfFY2_2.at[0,'EBITDA - Mean']/dfFY2.at[0,'EBITDA - Mean']-1)*100],\n",
    "        'EPS Mean Est.':\n",
    "        [dfFY0.at[0,'Earnings Per Share - Actual'], dfFY1.at[0,'Earnings Per Share - Mean Estimate'],'',\n",
    "         dfFY2.at[0,'Earnings Per Share - Mean Estimate'],''],\n",
    "        'High Est..':\n",
    "         ['',dfFY1.at[0,'Earnings Per Share - High'],(dfFY1.at[0,'Earnings Per Share - High']/dfFY1.at[0,'Earnings Per Share - Mean Estimate']-1)*100,\n",
    "        dfFY2.at[0,'Earnings Per Share - High'],(dfFY2.at[0,'Earnings Per Share - High']/dfFY2.at[0,'Earnings Per Share - Mean Estimate']-1)*100],\n",
    "        'Low Est..':\n",
    "         ['',dfFY1.at[0,'Earnings Per Share - Low'],(dfFY1.at[0,'Earnings Per Share - Low']/dfFY1.at[0,'Earnings Per Share - Mean Estimate']-1)*100,\n",
    "        dfFY2.at[0,'Earnings Per Share - Low'],(dfFY2.at[0,'Earnings Per Share - Low']/dfFY2.at[0,'Earnings Per Share - Mean Estimate']-1)*100],\n",
    "        'Est. 30 30 Days Ago..':\n",
    "        ['',dfFY1_2.at[0,'Earnings Per Share - Mean Estimate'],(dfFY1_2.at[0,'Earnings Per Share - Mean Estimate']/dfFY1.at[0,'Earnings Per Share - Mean Estimate']-1)*100,\n",
    "        dfFY2_2.at[0,'Earnings Per Share - Mean Estimate'],(dfFY2_2.at[0,'Earnings Per Share - Mean Estimate']/dfFY2.at[0,'Earnings Per Share - Mean Estimate']-1)*100]\n",
    "       }  \n",
    "  \n",
    "# Create andas DataFrame. \n",
    "dfMultiRow = pd.DataFrame(data, index =['FY0 (Actual)','FY1 (Current Year)', '% above/below mean','FY2 (Next Year)','% above/below mean' ]) \n",
    "                                             \n",
    "dfMultiRow                     "
   ]
  },
  {
   "cell_type": "markdown",
   "metadata": {},
   "source": [
    "# Valuation Ratios"
   ]
  },
  {
   "cell_type": "code",
   "execution_count": 163,
   "metadata": {},
   "outputs": [],
   "source": [
    "# Retrieve Valuation Ratios into DataFrames per period\n",
    "\n",
    "dfLTM, err  = ek.get_data(RIC,'TR.PE;TR.PriceToSalesPerShare;TR.EVToSales;TR.EVToEBITDA',{'Sdate':'0D'})\n",
    "dfFY1, err = ek.get_data(RIC, 'TR.PToEPSMeanEst;TR.PToREVMeanEst',{'Period':'FY1'})\n",
    "dfFY1_2, err= ek.get_data(RIC,'TR.EV;TR.RevenueMeanEstimate,TR.EBITDAMean',{'Period':'FY1','Curn':df.at[0,'Currency']})\n",
    "dfFY2, err = ek.get_data(RIC, 'TR.PToEPSMeanEst;TR.PToREVMeanEst',{'Period':'FY2'})\n",
    "dfFY2_2, err= ek.get_data(RIC,'TR.EV;TR.RevenueMeanEstimate,TR.EBITDAMean',{'Period':'FY2','Curn':df.at[0,'Currency']})\n",
    "###DEBUG display(dfLTM,dfFY1,dfFY1_2,dfFY2, dfFY2_2)"
   ]
  },
  {
   "cell_type": "code",
   "execution_count": 164,
   "metadata": {},
   "outputs": [
    {
     "data": {
      "text/html": [
       "<div>\n",
       "<style scoped>\n",
       "    .dataframe tbody tr th:only-of-type {\n",
       "        vertical-align: middle;\n",
       "    }\n",
       "\n",
       "    .dataframe tbody tr th {\n",
       "        vertical-align: top;\n",
       "    }\n",
       "\n",
       "    .dataframe thead th {\n",
       "        text-align: right;\n",
       "    }\n",
       "</style>\n",
       "<table border=\"1\" class=\"dataframe\">\n",
       "  <thead>\n",
       "    <tr style=\"text-align: right;\">\n",
       "      <th></th>\n",
       "      <th>P/E</th>\n",
       "      <th>P/SALES</th>\n",
       "      <th>EV/REVS</th>\n",
       "      <th>EV/EBITDA</th>\n",
       "    </tr>\n",
       "  </thead>\n",
       "  <tbody>\n",
       "    <tr>\n",
       "      <th>LTM (Last Twelve Months)</th>\n",
       "      <td>10.994388</td>\n",
       "      <td>1.358499</td>\n",
       "      <td>2.060721</td>\n",
       "      <td>8.269897</td>\n",
       "    </tr>\n",
       "    <tr>\n",
       "      <th>FY1 (Current Year)</th>\n",
       "      <td>7.711220</td>\n",
       "      <td>1.160959</td>\n",
       "      <td>1.849561</td>\n",
       "      <td>7.680083</td>\n",
       "    </tr>\n",
       "    <tr>\n",
       "      <th>FY2 (Next Year)</th>\n",
       "      <td>7.264672</td>\n",
       "      <td>1.141968</td>\n",
       "      <td>1.819305</td>\n",
       "      <td>7.290928</td>\n",
       "    </tr>\n",
       "  </tbody>\n",
       "</table>\n",
       "</div>"
      ],
      "text/plain": [
       "                                P/E   P/SALES   EV/REVS  EV/EBITDA\n",
       "LTM (Last Twelve Months)  10.994388  1.358499  2.060721   8.269897\n",
       "FY1 (Current Year)         7.711220  1.160959  1.849561   7.680083\n",
       "FY2 (Next Year)            7.264672  1.141968  1.819305   7.290928"
      ]
     },
     "execution_count": 164,
     "metadata": {},
     "output_type": "execute_result"
    }
   ],
   "source": [
    "#Create a dictionary out of results, and structure a single multi-row Data Frame\n",
    "\n",
    "# Initialise results per column \n",
    "dataDict = {'P/E':\n",
    "        [dfLTM.at[0,'P/E (Daily Time Series Ratio)'], dfFY1.at[0,'Price / EPS (Mean Estimate)'], dfFY2.at[0,'Price / EPS (Mean Estimate)']],\n",
    "            'P/SALES':\n",
    "        [dfLTM.at[0,'Price To Sales Per Share (Daily Time Series Ratio)'], dfFY1.at[0,'Price / Revenue (Mean Estimate)'], dfFY2.at[0,'Price / Revenue (Mean Estimate)']],\n",
    "            'EV/REVS':\n",
    "                [dfLTM.at[0,'Enterprise Value To Sales (Daily Time Series Ratio)'], \n",
    "                 dfFY1_2.at[0,'Enterprise Value (Daily Time Series)']/dfFY1_2.at[0,'Revenue - Mean Estimate'], \n",
    "                 dfFY2_2.at[0,'Enterprise Value (Daily Time Series)']/dfFY2_2.at[0,'Revenue - Mean Estimate']],\n",
    "            \n",
    "            'EV/EBITDA':\n",
    "                [dfLTM.at[0,'Enterprise Value To EBITDA (Daily Time Series Ratio)'], \n",
    "                 dfFY1_2.at[0,'Enterprise Value (Daily Time Series)']/dfFY1_2.at[0,'EBITDA - Mean'], \n",
    "                 dfFY2_2.at[0,'Enterprise Value (Daily Time Series)']/dfFY2_2.at[0,'EBITDA - Mean']]\n",
    "}\n",
    "\n",
    "#Create Pandas DataFrame. \n",
    "dfMultiRow = pd.DataFrame(dataDict, index =['LTM (Last Twelve Months)','FY1 (Current Year)', 'FY2 (Next Year)']) \n",
    "dfMultiRow        "
   ]
  },
  {
   "cell_type": "markdown",
   "metadata": {},
   "source": [
    "## FY0 Per Share Metrics "
   ]
  },
  {
   "cell_type": "code",
   "execution_count": 165,
   "metadata": {},
   "outputs": [
    {
     "data": {
      "text/html": [
       "<div>\n",
       "<style scoped>\n",
       "    .dataframe tbody tr th:only-of-type {\n",
       "        vertical-align: middle;\n",
       "    }\n",
       "\n",
       "    .dataframe tbody tr th {\n",
       "        vertical-align: top;\n",
       "    }\n",
       "\n",
       "    .dataframe thead th {\n",
       "        text-align: right;\n",
       "    }\n",
       "</style>\n",
       "<table border=\"1\" class=\"dataframe\">\n",
       "  <thead>\n",
       "    <tr style=\"text-align: right;\">\n",
       "      <th></th>\n",
       "      <th>Instrument</th>\n",
       "      <th>Total Cash &amp; ST Invest/Share</th>\n",
       "      <th>Wk Cap/Shr</th>\n",
       "      <th>BOOKVALUEPERSHARE</th>\n",
       "      <th>Revenue Per Share</th>\n",
       "      <th>Cash Flow/Shr (dil.)</th>\n",
       "      <th>FOCF/Shr (dil.)</th>\n",
       "      <th>DPS - Common Stock Primary Issue</th>\n",
       "      <th>Total Debt</th>\n",
       "    </tr>\n",
       "  </thead>\n",
       "  <tbody>\n",
       "    <tr>\n",
       "      <th>0</th>\n",
       "      <td>IBM</td>\n",
       "      <td>9.9965</td>\n",
       "      <td>0.810497</td>\n",
       "      <td>NaN</td>\n",
       "      <td>86.408875</td>\n",
       "      <td>17.517659</td>\n",
       "      <td>6.896178</td>\n",
       "      <td>6.43</td>\n",
       "      <td>70.903234</td>\n",
       "    </tr>\n",
       "  </tbody>\n",
       "</table>\n",
       "</div>"
      ],
      "text/plain": [
       "  Instrument  Total Cash & ST Invest/Share  Wk Cap/Shr  BOOKVALUEPERSHARE  \\\n",
       "0        IBM                        9.9965    0.810497                NaN   \n",
       "\n",
       "   Revenue Per Share  Cash Flow/Shr (dil.)  FOCF/Shr (dil.)  \\\n",
       "0          86.408875             17.517659         6.896178   \n",
       "\n",
       "   DPS - Common Stock Primary Issue  Total Debt  \n",
       "0                              6.43   70.903234  "
      ]
     },
     "execution_count": 165,
     "metadata": {},
     "output_type": "execute_result"
    }
   ],
   "source": [
    "dfFYOShare, err = ek.get_data(RIC ,['TR.TotCashAndShortTermInvestmentsperShare',\n",
    "'TR.WorkingCapitalperShare','BookValuePerShare','TR.RevenuePerShare','TR.CashFlowtoShrdil',\n",
    "'TR.FreeOperatingCashFlowperShareAvgDilutedSharesOut','TR.DPSCommonStock'], {'Period':'FY0','curn':df.at[0,'Currency']})\n",
    "dfFYOShare_2, err =  ek.get_data(RIC ,['TR.TotalDebt','TR.TtlCmnSharesOut'],{'Period':'FY0','curn':df.at[0,'Currency']})\n",
    "# additionally, calculate total debt\n",
    "dfFYOShare['Total Debt'] = [dfFYOShare_2.at[0,'Total Debt']/dfFYOShare_2.at[0,'Total Common Shares Outstanding']]\n",
    "dfFYOShare"
   ]
  },
  {
   "cell_type": "markdown",
   "metadata": {},
   "source": [
    "## FY0 Employee Data"
   ]
  },
  {
   "cell_type": "code",
   "execution_count": 166,
   "metadata": {},
   "outputs": [
    {
     "data": {
      "text/html": [
       "<div>\n",
       "<style scoped>\n",
       "    .dataframe tbody tr th:only-of-type {\n",
       "        vertical-align: middle;\n",
       "    }\n",
       "\n",
       "    .dataframe tbody tr th {\n",
       "        vertical-align: top;\n",
       "    }\n",
       "\n",
       "    .dataframe thead th {\n",
       "        text-align: right;\n",
       "    }\n",
       "</style>\n",
       "<table border=\"1\" class=\"dataframe\">\n",
       "  <thead>\n",
       "    <tr style=\"text-align: right;\">\n",
       "      <th></th>\n",
       "      <th>Instrument</th>\n",
       "      <th>Full-Time Employees</th>\n",
       "      <th>Revenue/Employee, FY</th>\n",
       "      <th>Empt Grth</th>\n",
       "      <th>5 yr Avg</th>\n",
       "    </tr>\n",
       "  </thead>\n",
       "  <tbody>\n",
       "    <tr>\n",
       "      <th>0</th>\n",
       "      <td>IBM</td>\n",
       "      <td>352600</td>\n",
       "      <td>219416.951081</td>\n",
       "      <td>-0.005705</td>\n",
       "      <td>215998.501851</td>\n",
       "    </tr>\n",
       "  </tbody>\n",
       "</table>\n",
       "</div>"
      ],
      "text/plain": [
       "  Instrument  Full-Time Employees  Revenue/Employee, FY  Empt Grth  \\\n",
       "0        IBM               352600         219416.951081  -0.005705   \n",
       "\n",
       "        5 yr Avg  \n",
       "0  215998.501851  "
      ]
     },
     "execution_count": 166,
     "metadata": {},
     "output_type": "execute_result"
    }
   ],
   "source": [
    "dfEmp, err = ek.get_data(RIC,'TR.Employees(Period=FY0),TR.RevenueperEmployeescalYrEnd(Period=FY0)')\n",
    "dfEmp_2, err = ek.get_data(RIC,'TR.Employees(Period=FY-1)')\n",
    "dfEmp_3, err = ek.get_data(RIC,'TR.RevenueperEmployeescalYrEnd(Period=FY0,sdate=0D,Edate=-4FY,Frq=FY)')\n",
    "dfEmp['Empt Grth'] = (dfEmp_2.at[0,'Full-Time Employees']-dfEmp.at[0,'Full-Time Employees'])/dfEmp_2.at[0,'Full-Time Employees']\n",
    "dfEmp['5 yr Avg'] = dfEmp_3[\"Revenue/Employee, FY\"].mean()\n",
    "dfEmp"
   ]
  },
  {
   "cell_type": "markdown",
   "metadata": {},
   "source": [
    "## Abbreviated Financials"
   ]
  },
  {
   "cell_type": "markdown",
   "metadata": {},
   "source": [
    "### Income Statement (MIL)"
   ]
  },
  {
   "cell_type": "code",
   "execution_count": 167,
   "metadata": {},
   "outputs": [
    {
     "data": {
      "text/html": [
       "<div>\n",
       "<style scoped>\n",
       "    .dataframe tbody tr th:only-of-type {\n",
       "        vertical-align: middle;\n",
       "    }\n",
       "\n",
       "    .dataframe tbody tr th {\n",
       "        vertical-align: top;\n",
       "    }\n",
       "\n",
       "    .dataframe thead th {\n",
       "        text-align: right;\n",
       "    }\n",
       "</style>\n",
       "<table border=\"1\" class=\"dataframe\">\n",
       "  <thead>\n",
       "    <tr style=\"text-align: right;\">\n",
       "      <th></th>\n",
       "      <th>FY0</th>\n",
       "      <th>FY-1</th>\n",
       "    </tr>\n",
       "  </thead>\n",
       "  <tbody>\n",
       "    <tr>\n",
       "      <th>Instrument</th>\n",
       "      <td>IBM</td>\n",
       "      <td>IBM</td>\n",
       "    </tr>\n",
       "    <tr>\n",
       "      <th>Total Revenue</th>\n",
       "      <td>77147</td>\n",
       "      <td>79591</td>\n",
       "    </tr>\n",
       "    <tr>\n",
       "      <th>Gross Profit</th>\n",
       "      <td>36488</td>\n",
       "      <td>36936</td>\n",
       "    </tr>\n",
       "    <tr>\n",
       "      <th>EBITDA</th>\n",
       "      <td>18986</td>\n",
       "      <td>17725</td>\n",
       "    </tr>\n",
       "    <tr>\n",
       "      <th>EBIT</th>\n",
       "      <td>12927</td>\n",
       "      <td>13245</td>\n",
       "    </tr>\n",
       "    <tr>\n",
       "      <th>Net Income Before Taxes</th>\n",
       "      <td>10166</td>\n",
       "      <td>11342</td>\n",
       "    </tr>\n",
       "    <tr>\n",
       "      <th>Net Income Incl Extra Before Distributions</th>\n",
       "      <td>9431</td>\n",
       "      <td>8728</td>\n",
       "    </tr>\n",
       "    <tr>\n",
       "      <th>Total Common Shares Outstanding</th>\n",
       "      <td>887.11</td>\n",
       "      <td>892.479</td>\n",
       "    </tr>\n",
       "  </tbody>\n",
       "</table>\n",
       "</div>"
      ],
      "text/plain": [
       "                                               FY0     FY-1\n",
       "Instrument                                     IBM      IBM\n",
       "Total Revenue                                77147    79591\n",
       "Gross Profit                                 36488    36936\n",
       "EBITDA                                       18986    17725\n",
       "EBIT                                         12927    13245\n",
       "Net Income Before Taxes                      10166    11342\n",
       "Net Income Incl Extra Before Distributions    9431     8728\n",
       "Total Common Shares Outstanding             887.11  892.479"
      ]
     },
     "execution_count": 167,
     "metadata": {},
     "output_type": "execute_result"
    }
   ],
   "source": [
    "dfFin, err = ek.get_data(RIC, 'TR.TotalRevenue;TR.GrossProfit;TR.EBITDA;TR.EBIT;TR.NetIncomeBeforeTaxes;TR.NetIncome;TR.TtlCmnSharesOut',{'Period':'FY0','Scale':'6','curn':df.at[0,'Currency'],'Transpose':'Y'})\n",
    "dfFin2, err = ek.get_data(RIC, 'TR.TotalRevenue;TR.GrossProfit;TR.EBITDA;TR.EBIT;TR.NetIncomeBeforeTaxes;TR.NetIncome;TR.TtlCmnSharesOut',{'Period':'FY-1','Scale':'6','curn':df.at[0,'Currency'],'Transpose':'Y'})\n",
    "\n",
    "# results as simple lists\n",
    "listFin = list(dfFin.iloc[0, :])\n",
    "listFin2 = list(dfFin2.iloc[0, :])\n",
    "\n",
    "# results as single dictionary\n",
    "dataDict2 = {'FY0': listFin, 'FY-1': listFin2 }\n",
    "\n",
    "# Pandas DataFrame from dictionary \n",
    "dfIncome = pd.DataFrame(dataDict2, index = dfFin.columns) \n",
    "dfIncome        "
   ]
  },
  {
   "cell_type": "markdown",
   "metadata": {},
   "source": [
    "### Balance Sheet (MIL)"
   ]
  },
  {
   "cell_type": "code",
   "execution_count": 168,
   "metadata": {},
   "outputs": [
    {
     "data": {
      "text/html": [
       "<div>\n",
       "<style scoped>\n",
       "    .dataframe tbody tr th:only-of-type {\n",
       "        vertical-align: middle;\n",
       "    }\n",
       "\n",
       "    .dataframe tbody tr th {\n",
       "        vertical-align: top;\n",
       "    }\n",
       "\n",
       "    .dataframe thead th {\n",
       "        text-align: right;\n",
       "    }\n",
       "</style>\n",
       "<table border=\"1\" class=\"dataframe\">\n",
       "  <thead>\n",
       "    <tr style=\"text-align: right;\">\n",
       "      <th></th>\n",
       "      <th>FY0</th>\n",
       "      <th>FY-1</th>\n",
       "    </tr>\n",
       "  </thead>\n",
       "  <tbody>\n",
       "    <tr>\n",
       "      <th>Instrument</th>\n",
       "      <td>IBM</td>\n",
       "      <td>IBM</td>\n",
       "    </tr>\n",
       "    <tr>\n",
       "      <th>Cash and Short Term Investments</th>\n",
       "      <td>8868</td>\n",
       "      <td>11999</td>\n",
       "    </tr>\n",
       "    <tr>\n",
       "      <th>Property/Plant/Equipment, Total - Net</th>\n",
       "      <td>15006</td>\n",
       "      <td>10792</td>\n",
       "    </tr>\n",
       "    <tr>\n",
       "      <th>Total Assets, Reported</th>\n",
       "      <td>152186</td>\n",
       "      <td>123382</td>\n",
       "    </tr>\n",
       "    <tr>\n",
       "      <th>Current Liabilities</th>\n",
       "      <td>37701</td>\n",
       "      <td>38227</td>\n",
       "    </tr>\n",
       "    <tr>\n",
       "      <th>Total Long Term Debt</th>\n",
       "      <td>54102</td>\n",
       "      <td>35605</td>\n",
       "    </tr>\n",
       "    <tr>\n",
       "      <th>Total Liabilities</th>\n",
       "      <td>131345</td>\n",
       "      <td>106587</td>\n",
       "    </tr>\n",
       "    <tr>\n",
       "      <th>Total Equity</th>\n",
       "      <td>20841</td>\n",
       "      <td>16795</td>\n",
       "    </tr>\n",
       "  </tbody>\n",
       "</table>\n",
       "</div>"
      ],
      "text/plain": [
       "                                          FY0    FY-1\n",
       "Instrument                                IBM     IBM\n",
       "Cash and Short Term Investments          8868   11999\n",
       "Property/Plant/Equipment, Total - Net   15006   10792\n",
       "Total Assets, Reported                 152186  123382\n",
       "Current Liabilities                     37701   38227\n",
       "Total Long Term Debt                    54102   35605\n",
       "Total Liabilities                      131345  106587\n",
       "Total Equity                            20841   16795"
      ]
     },
     "execution_count": 168,
     "metadata": {},
     "output_type": "execute_result"
    }
   ],
   "source": [
    "dfBal, err = ek.get_data(RIC, 'TR.CashAndSTInvestments;TR.PropertyPlantEquipmentTotalNet;TR.TotalAssetsReported;TR.CurrentLiabilities;TR.TotalLongTermDebt;TR.TotalLiabilities;TR.TotalEquity',{'Period':'FY0','Scale':6,'Curn':df.at[0,'Currency'],'Transpose':'Y'})\n",
    "dfBal2, err = ek.get_data(RIC, 'TR.CashAndSTInvestments;TR.PropertyPlantEquipmentTotalNet;TR.TotalAssetsReported;TR.CurrentLiabilities;TR.TotalLongTermDebt;TR.TotalLiabilities;TR.TotalEquity',{'Period':'FY-1','Scale':6,'Curn':df.at[0,'Currency'],'Transpose':'Y'})\n",
    "\n",
    "# results as single dictionary\n",
    "dataDict3 = {'FY0': list(dfBal.iloc[0, :]), 'FY-1': list(dfBal2.iloc[0, :]) }\n",
    "\n",
    "# Pandas DataFrame from dictionary \n",
    "dfBalance= pd.DataFrame(dataDict3, index = dfBal.columns) \n",
    "dfBalance "
   ]
  },
  {
   "cell_type": "markdown",
   "metadata": {},
   "source": [
    "### Cash Flow Statement (MIL)"
   ]
  },
  {
   "cell_type": "code",
   "execution_count": 169,
   "metadata": {},
   "outputs": [
    {
     "data": {
      "text/html": [
       "<div>\n",
       "<style scoped>\n",
       "    .dataframe tbody tr th:only-of-type {\n",
       "        vertical-align: middle;\n",
       "    }\n",
       "\n",
       "    .dataframe tbody tr th {\n",
       "        vertical-align: top;\n",
       "    }\n",
       "\n",
       "    .dataframe thead th {\n",
       "        text-align: right;\n",
       "    }\n",
       "</style>\n",
       "<table border=\"1\" class=\"dataframe\">\n",
       "  <thead>\n",
       "    <tr style=\"text-align: right;\">\n",
       "      <th></th>\n",
       "      <th>FY0</th>\n",
       "      <th>FY-1</th>\n",
       "    </tr>\n",
       "  </thead>\n",
       "  <tbody>\n",
       "    <tr>\n",
       "      <th>Instrument</th>\n",
       "      <td>IBM</td>\n",
       "      <td>IBM</td>\n",
       "    </tr>\n",
       "    <tr>\n",
       "      <th>Cash from Operating Activities, Cumulative</th>\n",
       "      <td>14771</td>\n",
       "      <td>15247</td>\n",
       "    </tr>\n",
       "    <tr>\n",
       "      <th>Capital Expenditures, Cumulative</th>\n",
       "      <td>-2907</td>\n",
       "      <td>-3964</td>\n",
       "    </tr>\n",
       "    <tr>\n",
       "      <th>Cash from Investing Activities, Cumulative</th>\n",
       "      <td>-26936</td>\n",
       "      <td>-4913</td>\n",
       "    </tr>\n",
       "    <tr>\n",
       "      <th>TR.CASHDIVIDENDSPAID*-1</th>\n",
       "      <td>-5707</td>\n",
       "      <td>-5666</td>\n",
       "    </tr>\n",
       "    <tr>\n",
       "      <th>Cash from Financing Activities, Cumulative</th>\n",
       "      <td>9042</td>\n",
       "      <td>-10469</td>\n",
       "    </tr>\n",
       "    <tr>\n",
       "      <th>Net Income</th>\n",
       "      <td>9431</td>\n",
       "      <td>8728</td>\n",
       "    </tr>\n",
       "    <tr>\n",
       "      <th>Cash From Operations</th>\n",
       "      <td>13546</td>\n",
       "      <td>14694</td>\n",
       "    </tr>\n",
       "  </tbody>\n",
       "</table>\n",
       "</div>"
      ],
      "text/plain": [
       "                                               FY0    FY-1\n",
       "Instrument                                     IBM     IBM\n",
       "Cash from Operating Activities, Cumulative   14771   15247\n",
       "Capital Expenditures, Cumulative             -2907   -3964\n",
       "Cash from Investing Activities, Cumulative  -26936   -4913\n",
       "TR.CASHDIVIDENDSPAID*-1                      -5707   -5666\n",
       "Cash from Financing Activities, Cumulative    9042  -10469\n",
       "Net Income                                    9431    8728\n",
       "Cash From Operations                         13546   14694"
      ]
     },
     "execution_count": 169,
     "metadata": {},
     "output_type": "execute_result"
    }
   ],
   "source": [
    "dfCash, err = ek.get_data(RIC, 'TR.NetIncomeStartingLine',{'Period':'FY0','Scale':'6','curn':df.at[0,'Currency']})\n",
    "dfCash_2, err = ek.get_data(RIC, 'TR.NetIncomeStartingLine,TR.DepreciationDepletion,TR.Amortization,TR.NonCashItems,TR.DeferredTaxes',{'Period':'FY0','Scale':'6','Curn':df.at[0,'Currency']})\n",
    "dfCash_3, err = ek.get_data(RIC, 'TR.CashFromOperatingAct;TR.CapitalExpenditures;TR.CashFromInvestingAct;TR.CashDividendsPaid*-1;TR.CashFromFinancingAct',{'Period':'FY0','Scale':6,'Curn':df.at[0,'Currency'],'Transpose':'Y'})\n",
    "#insert as columns, entincome and  sum of cash from operations\n",
    "dfCash_3['Net Income'] = [dfCash.at[0,'Net Income/Starting Line, Cumulative']]\n",
    "dfCash_3['Cash From Operations'] = [sum(list(dfCash_2.iloc[0, 1:]))]\n",
    "\n",
    "dfCash2, err = ek.get_data(RIC, 'TR.NetIncomeStartingLine',{'Period':'FY-1','Scale':'6','curn':df.at[0,'Currency']})\n",
    "dfCash2_2, err = ek.get_data(RIC, 'TR.NetIncomeStartingLine,TR.DepreciationDepletion,TR.Amortization,TR.NonCashItems,TR.DeferredTaxes',{'Period':'FY-1','Scale':'6','Curn':df.at[0,'Currency']})\n",
    "dfCash2_3, err = ek.get_data(RIC, 'TR.CashFromOperatingAct;TR.CapitalExpenditures;TR.CashFromInvestingAct;TR.CashDividendsPaid*-1;TR.CashFromFinancingAct',{'Period':'FY-1','Scale':6,'Curn':df.at[0,'Currency'],'Transpose':'Y'})\n",
    "#insert as columns, entincome and  sum of cash from operations\n",
    "dfCash2_3['Net Income'] = [dfCash2.at[0,'Net Income/Starting Line, Cumulative']]\n",
    "dfCash2_3['Cash From Operations'] = [sum(list(dfCash2_2.iloc[0, 1:]))]\n",
    "\n",
    "#DEBUG display(dfCash_3,dfCash2_3)\n",
    "\n",
    "# results as simple lists\n",
    "listCash = list(dfCash_3.iloc[0, :])\n",
    "listCash2 = list(dfCash2_3.iloc[0, :])\n",
    "\n",
    "\n",
    "# results as single dictionary\n",
    "dataDict3 = {'FY0': listCash, 'FY-1': listCash2 }\n",
    "#dataDict3\n",
    "\n",
    "# Pandas DataFrame from dictionary \n",
    "dfCashFlow = pd.DataFrame(dataDict3, index = dfCash_3.columns) \n",
    "dfCashFlow  "
   ]
  },
  {
   "cell_type": "markdown",
   "metadata": {},
   "source": [
    "## Review of Stock Performance "
   ]
  },
  {
   "cell_type": "markdown",
   "metadata": {},
   "source": [
    "### Price Actions"
   ]
  },
  {
   "cell_type": "code",
   "execution_count": 201,
   "metadata": {},
   "outputs": [
    {
     "data": {
      "text/html": [
       "        <script type=\"text/javascript\">\n",
       "        window.PlotlyConfig = {MathJaxConfig: 'local'};\n",
       "        if (window.MathJax) {MathJax.Hub.Config({SVG: {font: \"STIX-Web\"}});}\n",
       "        if (typeof require !== 'undefined') {\n",
       "        require.undef(\"plotly\");\n",
       "        requirejs.config({\n",
       "            paths: {\n",
       "                'plotly': ['https://cdn.plot.ly/plotly-latest.min']\n",
       "            }\n",
       "        });\n",
       "        require(['plotly'], function(Plotly) {\n",
       "            window._Plotly = Plotly;\n",
       "        });\n",
       "        }\n",
       "        </script>\n",
       "        "
      ]
     },
     "metadata": {},
     "output_type": "display_data"
    },
    {
     "data": {
      "application/vnd.plotly.v1+json": {
       "config": {
        "plotlyServerURL": "https://plot.ly"
       },
       "data": [
        {
         "alignmentgroup": "True",
         "hoverlabel": {
          "namelength": 0
         },
         "hovertemplate": "Names=%{x}<br>Periods=%{y}",
         "legendgroup": "",
         "marker": {
          "color": "#636efa"
         },
         "name": "",
         "offsetgroup": "",
         "orientation": "v",
         "showlegend": false,
         "textposition": "auto",
         "type": "bar",
         "x": [
          "TR.PRICEPCTCHG1M/100",
          "TR.PRICEPCTCHG3M/100",
          "TR.PRICEPCTCHG6M/100",
          "TR.PricePctChg1Y/100"
         ],
         "xaxis": "x",
         "y": [
          -0.33803361019895695,
          -0.240245344368903,
          -0.284152624982593,
          -0.256508533410472
         ],
         "yaxis": "y"
        }
       ],
       "layout": {
        "barmode": "relative",
        "height": 600,
        "legend": {
         "tracegroupgap": 0
        },
        "margin": {
         "t": 60
        },
        "template": {
         "data": {
          "bar": [
           {
            "error_x": {
             "color": "#2a3f5f"
            },
            "error_y": {
             "color": "#2a3f5f"
            },
            "marker": {
             "line": {
              "color": "#E5ECF6",
              "width": 0.5
             }
            },
            "type": "bar"
           }
          ],
          "barpolar": [
           {
            "marker": {
             "line": {
              "color": "#E5ECF6",
              "width": 0.5
             }
            },
            "type": "barpolar"
           }
          ],
          "carpet": [
           {
            "aaxis": {
             "endlinecolor": "#2a3f5f",
             "gridcolor": "white",
             "linecolor": "white",
             "minorgridcolor": "white",
             "startlinecolor": "#2a3f5f"
            },
            "baxis": {
             "endlinecolor": "#2a3f5f",
             "gridcolor": "white",
             "linecolor": "white",
             "minorgridcolor": "white",
             "startlinecolor": "#2a3f5f"
            },
            "type": "carpet"
           }
          ],
          "choropleth": [
           {
            "colorbar": {
             "outlinewidth": 0,
             "ticks": ""
            },
            "type": "choropleth"
           }
          ],
          "contour": [
           {
            "colorbar": {
             "outlinewidth": 0,
             "ticks": ""
            },
            "colorscale": [
             [
              0,
              "#0d0887"
             ],
             [
              0.1111111111111111,
              "#46039f"
             ],
             [
              0.2222222222222222,
              "#7201a8"
             ],
             [
              0.3333333333333333,
              "#9c179e"
             ],
             [
              0.4444444444444444,
              "#bd3786"
             ],
             [
              0.5555555555555556,
              "#d8576b"
             ],
             [
              0.6666666666666666,
              "#ed7953"
             ],
             [
              0.7777777777777778,
              "#fb9f3a"
             ],
             [
              0.8888888888888888,
              "#fdca26"
             ],
             [
              1,
              "#f0f921"
             ]
            ],
            "type": "contour"
           }
          ],
          "contourcarpet": [
           {
            "colorbar": {
             "outlinewidth": 0,
             "ticks": ""
            },
            "type": "contourcarpet"
           }
          ],
          "heatmap": [
           {
            "colorbar": {
             "outlinewidth": 0,
             "ticks": ""
            },
            "colorscale": [
             [
              0,
              "#0d0887"
             ],
             [
              0.1111111111111111,
              "#46039f"
             ],
             [
              0.2222222222222222,
              "#7201a8"
             ],
             [
              0.3333333333333333,
              "#9c179e"
             ],
             [
              0.4444444444444444,
              "#bd3786"
             ],
             [
              0.5555555555555556,
              "#d8576b"
             ],
             [
              0.6666666666666666,
              "#ed7953"
             ],
             [
              0.7777777777777778,
              "#fb9f3a"
             ],
             [
              0.8888888888888888,
              "#fdca26"
             ],
             [
              1,
              "#f0f921"
             ]
            ],
            "type": "heatmap"
           }
          ],
          "heatmapgl": [
           {
            "colorbar": {
             "outlinewidth": 0,
             "ticks": ""
            },
            "colorscale": [
             [
              0,
              "#0d0887"
             ],
             [
              0.1111111111111111,
              "#46039f"
             ],
             [
              0.2222222222222222,
              "#7201a8"
             ],
             [
              0.3333333333333333,
              "#9c179e"
             ],
             [
              0.4444444444444444,
              "#bd3786"
             ],
             [
              0.5555555555555556,
              "#d8576b"
             ],
             [
              0.6666666666666666,
              "#ed7953"
             ],
             [
              0.7777777777777778,
              "#fb9f3a"
             ],
             [
              0.8888888888888888,
              "#fdca26"
             ],
             [
              1,
              "#f0f921"
             ]
            ],
            "type": "heatmapgl"
           }
          ],
          "histogram": [
           {
            "marker": {
             "colorbar": {
              "outlinewidth": 0,
              "ticks": ""
             }
            },
            "type": "histogram"
           }
          ],
          "histogram2d": [
           {
            "colorbar": {
             "outlinewidth": 0,
             "ticks": ""
            },
            "colorscale": [
             [
              0,
              "#0d0887"
             ],
             [
              0.1111111111111111,
              "#46039f"
             ],
             [
              0.2222222222222222,
              "#7201a8"
             ],
             [
              0.3333333333333333,
              "#9c179e"
             ],
             [
              0.4444444444444444,
              "#bd3786"
             ],
             [
              0.5555555555555556,
              "#d8576b"
             ],
             [
              0.6666666666666666,
              "#ed7953"
             ],
             [
              0.7777777777777778,
              "#fb9f3a"
             ],
             [
              0.8888888888888888,
              "#fdca26"
             ],
             [
              1,
              "#f0f921"
             ]
            ],
            "type": "histogram2d"
           }
          ],
          "histogram2dcontour": [
           {
            "colorbar": {
             "outlinewidth": 0,
             "ticks": ""
            },
            "colorscale": [
             [
              0,
              "#0d0887"
             ],
             [
              0.1111111111111111,
              "#46039f"
             ],
             [
              0.2222222222222222,
              "#7201a8"
             ],
             [
              0.3333333333333333,
              "#9c179e"
             ],
             [
              0.4444444444444444,
              "#bd3786"
             ],
             [
              0.5555555555555556,
              "#d8576b"
             ],
             [
              0.6666666666666666,
              "#ed7953"
             ],
             [
              0.7777777777777778,
              "#fb9f3a"
             ],
             [
              0.8888888888888888,
              "#fdca26"
             ],
             [
              1,
              "#f0f921"
             ]
            ],
            "type": "histogram2dcontour"
           }
          ],
          "mesh3d": [
           {
            "colorbar": {
             "outlinewidth": 0,
             "ticks": ""
            },
            "type": "mesh3d"
           }
          ],
          "parcoords": [
           {
            "line": {
             "colorbar": {
              "outlinewidth": 0,
              "ticks": ""
             }
            },
            "type": "parcoords"
           }
          ],
          "scatter": [
           {
            "marker": {
             "colorbar": {
              "outlinewidth": 0,
              "ticks": ""
             }
            },
            "type": "scatter"
           }
          ],
          "scatter3d": [
           {
            "line": {
             "colorbar": {
              "outlinewidth": 0,
              "ticks": ""
             }
            },
            "marker": {
             "colorbar": {
              "outlinewidth": 0,
              "ticks": ""
             }
            },
            "type": "scatter3d"
           }
          ],
          "scattercarpet": [
           {
            "marker": {
             "colorbar": {
              "outlinewidth": 0,
              "ticks": ""
             }
            },
            "type": "scattercarpet"
           }
          ],
          "scattergeo": [
           {
            "marker": {
             "colorbar": {
              "outlinewidth": 0,
              "ticks": ""
             }
            },
            "type": "scattergeo"
           }
          ],
          "scattergl": [
           {
            "marker": {
             "colorbar": {
              "outlinewidth": 0,
              "ticks": ""
             }
            },
            "type": "scattergl"
           }
          ],
          "scattermapbox": [
           {
            "marker": {
             "colorbar": {
              "outlinewidth": 0,
              "ticks": ""
             }
            },
            "type": "scattermapbox"
           }
          ],
          "scatterpolar": [
           {
            "marker": {
             "colorbar": {
              "outlinewidth": 0,
              "ticks": ""
             }
            },
            "type": "scatterpolar"
           }
          ],
          "scatterpolargl": [
           {
            "marker": {
             "colorbar": {
              "outlinewidth": 0,
              "ticks": ""
             }
            },
            "type": "scatterpolargl"
           }
          ],
          "scatterternary": [
           {
            "marker": {
             "colorbar": {
              "outlinewidth": 0,
              "ticks": ""
             }
            },
            "type": "scatterternary"
           }
          ],
          "surface": [
           {
            "colorbar": {
             "outlinewidth": 0,
             "ticks": ""
            },
            "colorscale": [
             [
              0,
              "#0d0887"
             ],
             [
              0.1111111111111111,
              "#46039f"
             ],
             [
              0.2222222222222222,
              "#7201a8"
             ],
             [
              0.3333333333333333,
              "#9c179e"
             ],
             [
              0.4444444444444444,
              "#bd3786"
             ],
             [
              0.5555555555555556,
              "#d8576b"
             ],
             [
              0.6666666666666666,
              "#ed7953"
             ],
             [
              0.7777777777777778,
              "#fb9f3a"
             ],
             [
              0.8888888888888888,
              "#fdca26"
             ],
             [
              1,
              "#f0f921"
             ]
            ],
            "type": "surface"
           }
          ],
          "table": [
           {
            "cells": {
             "fill": {
              "color": "#EBF0F8"
             },
             "line": {
              "color": "white"
             }
            },
            "header": {
             "fill": {
              "color": "#C8D4E3"
             },
             "line": {
              "color": "white"
             }
            },
            "type": "table"
           }
          ]
         },
         "layout": {
          "annotationdefaults": {
           "arrowcolor": "#2a3f5f",
           "arrowhead": 0,
           "arrowwidth": 1
          },
          "colorscale": {
           "diverging": [
            [
             0,
             "#8e0152"
            ],
            [
             0.1,
             "#c51b7d"
            ],
            [
             0.2,
             "#de77ae"
            ],
            [
             0.3,
             "#f1b6da"
            ],
            [
             0.4,
             "#fde0ef"
            ],
            [
             0.5,
             "#f7f7f7"
            ],
            [
             0.6,
             "#e6f5d0"
            ],
            [
             0.7,
             "#b8e186"
            ],
            [
             0.8,
             "#7fbc41"
            ],
            [
             0.9,
             "#4d9221"
            ],
            [
             1,
             "#276419"
            ]
           ],
           "sequential": [
            [
             0,
             "#0d0887"
            ],
            [
             0.1111111111111111,
             "#46039f"
            ],
            [
             0.2222222222222222,
             "#7201a8"
            ],
            [
             0.3333333333333333,
             "#9c179e"
            ],
            [
             0.4444444444444444,
             "#bd3786"
            ],
            [
             0.5555555555555556,
             "#d8576b"
            ],
            [
             0.6666666666666666,
             "#ed7953"
            ],
            [
             0.7777777777777778,
             "#fb9f3a"
            ],
            [
             0.8888888888888888,
             "#fdca26"
            ],
            [
             1,
             "#f0f921"
            ]
           ],
           "sequentialminus": [
            [
             0,
             "#0d0887"
            ],
            [
             0.1111111111111111,
             "#46039f"
            ],
            [
             0.2222222222222222,
             "#7201a8"
            ],
            [
             0.3333333333333333,
             "#9c179e"
            ],
            [
             0.4444444444444444,
             "#bd3786"
            ],
            [
             0.5555555555555556,
             "#d8576b"
            ],
            [
             0.6666666666666666,
             "#ed7953"
            ],
            [
             0.7777777777777778,
             "#fb9f3a"
            ],
            [
             0.8888888888888888,
             "#fdca26"
            ],
            [
             1,
             "#f0f921"
            ]
           ]
          },
          "colorway": [
           "#636efa",
           "#EF553B",
           "#00cc96",
           "#ab63fa",
           "#FFA15A",
           "#19d3f3",
           "#FF6692",
           "#B6E880",
           "#FF97FF",
           "#FECB52"
          ],
          "font": {
           "color": "#2a3f5f"
          },
          "geo": {
           "bgcolor": "white",
           "lakecolor": "white",
           "landcolor": "#E5ECF6",
           "showlakes": true,
           "showland": true,
           "subunitcolor": "white"
          },
          "hoverlabel": {
           "align": "left"
          },
          "hovermode": "closest",
          "mapbox": {
           "style": "light"
          },
          "paper_bgcolor": "white",
          "plot_bgcolor": "#E5ECF6",
          "polar": {
           "angularaxis": {
            "gridcolor": "white",
            "linecolor": "white",
            "ticks": ""
           },
           "bgcolor": "#E5ECF6",
           "radialaxis": {
            "gridcolor": "white",
            "linecolor": "white",
            "ticks": ""
           }
          },
          "scene": {
           "xaxis": {
            "backgroundcolor": "#E5ECF6",
            "gridcolor": "white",
            "gridwidth": 2,
            "linecolor": "white",
            "showbackground": true,
            "ticks": "",
            "zerolinecolor": "white"
           },
           "yaxis": {
            "backgroundcolor": "#E5ECF6",
            "gridcolor": "white",
            "gridwidth": 2,
            "linecolor": "white",
            "showbackground": true,
            "ticks": "",
            "zerolinecolor": "white"
           },
           "zaxis": {
            "backgroundcolor": "#E5ECF6",
            "gridcolor": "white",
            "gridwidth": 2,
            "linecolor": "white",
            "showbackground": true,
            "ticks": "",
            "zerolinecolor": "white"
           }
          },
          "shapedefaults": {
           "line": {
            "color": "#2a3f5f"
           }
          },
          "ternary": {
           "aaxis": {
            "gridcolor": "white",
            "linecolor": "white",
            "ticks": ""
           },
           "baxis": {
            "gridcolor": "white",
            "linecolor": "white",
            "ticks": ""
           },
           "bgcolor": "#E5ECF6",
           "caxis": {
            "gridcolor": "white",
            "linecolor": "white",
            "ticks": ""
           }
          },
          "title": {
           "x": 0.05
          },
          "xaxis": {
           "automargin": true,
           "gridcolor": "white",
           "linecolor": "white",
           "ticks": "",
           "zerolinecolor": "white",
           "zerolinewidth": 2
          },
          "yaxis": {
           "automargin": true,
           "gridcolor": "white",
           "linecolor": "white",
           "ticks": "",
           "zerolinecolor": "white",
           "zerolinewidth": 2
          }
         }
        },
        "xaxis": {
         "anchor": "y",
         "domain": [
          0,
          0.98
         ],
         "title": {
          "text": "Names"
         }
        },
        "yaxis": {
         "anchor": "x",
         "domain": [
          0,
          1
         ],
         "title": {
          "text": "Periods"
         }
        }
       }
      },
      "text/html": [
       "<div>\n",
       "        \n",
       "        \n",
       "            <div id=\"9d906e84-13b9-451f-8691-da2ab8b55df2\" class=\"plotly-graph-div\" style=\"height:600px; width:100%;\"></div>\n",
       "            <script type=\"text/javascript\">\n",
       "                require([\"plotly\"], function(Plotly) {\n",
       "                    window.PLOTLYENV=window.PLOTLYENV || {};\n",
       "                    \n",
       "                if (document.getElementById(\"9d906e84-13b9-451f-8691-da2ab8b55df2\")) {\n",
       "                    Plotly.newPlot(\n",
       "                        '9d906e84-13b9-451f-8691-da2ab8b55df2',\n",
       "                        [{\"alignmentgroup\": \"True\", \"hoverlabel\": {\"namelength\": 0}, \"hovertemplate\": \"Names=%{x}<br>Periods=%{y}\", \"legendgroup\": \"\", \"marker\": {\"color\": \"#636efa\"}, \"name\": \"\", \"offsetgroup\": \"\", \"orientation\": \"v\", \"showlegend\": false, \"textposition\": \"auto\", \"type\": \"bar\", \"x\": [\"TR.PRICEPCTCHG1M/100\", \"TR.PRICEPCTCHG3M/100\", \"TR.PRICEPCTCHG6M/100\", \"TR.PricePctChg1Y/100\"], \"xaxis\": \"x\", \"y\": [-0.33803361019895695, -0.240245344368903, -0.284152624982593, -0.256508533410472], \"yaxis\": \"y\"}],\n",
       "                        {\"barmode\": \"relative\", \"height\": 600, \"legend\": {\"tracegroupgap\": 0}, \"margin\": {\"t\": 60}, \"template\": {\"data\": {\"bar\": [{\"error_x\": {\"color\": \"#2a3f5f\"}, \"error_y\": {\"color\": \"#2a3f5f\"}, \"marker\": {\"line\": {\"color\": \"#E5ECF6\", \"width\": 0.5}}, \"type\": \"bar\"}], \"barpolar\": [{\"marker\": {\"line\": {\"color\": \"#E5ECF6\", \"width\": 0.5}}, \"type\": \"barpolar\"}], \"carpet\": [{\"aaxis\": {\"endlinecolor\": \"#2a3f5f\", \"gridcolor\": \"white\", \"linecolor\": \"white\", \"minorgridcolor\": \"white\", \"startlinecolor\": \"#2a3f5f\"}, \"baxis\": {\"endlinecolor\": \"#2a3f5f\", \"gridcolor\": \"white\", \"linecolor\": \"white\", \"minorgridcolor\": \"white\", \"startlinecolor\": \"#2a3f5f\"}, \"type\": \"carpet\"}], \"choropleth\": [{\"colorbar\": {\"outlinewidth\": 0, \"ticks\": \"\"}, \"type\": \"choropleth\"}], \"contour\": [{\"colorbar\": {\"outlinewidth\": 0, \"ticks\": \"\"}, \"colorscale\": [[0.0, \"#0d0887\"], [0.1111111111111111, \"#46039f\"], [0.2222222222222222, \"#7201a8\"], [0.3333333333333333, \"#9c179e\"], [0.4444444444444444, \"#bd3786\"], [0.5555555555555556, \"#d8576b\"], [0.6666666666666666, \"#ed7953\"], [0.7777777777777778, \"#fb9f3a\"], [0.8888888888888888, \"#fdca26\"], [1.0, \"#f0f921\"]], \"type\": \"contour\"}], \"contourcarpet\": [{\"colorbar\": {\"outlinewidth\": 0, \"ticks\": \"\"}, \"type\": \"contourcarpet\"}], \"heatmap\": [{\"colorbar\": {\"outlinewidth\": 0, \"ticks\": \"\"}, \"colorscale\": [[0.0, \"#0d0887\"], [0.1111111111111111, \"#46039f\"], [0.2222222222222222, \"#7201a8\"], [0.3333333333333333, \"#9c179e\"], [0.4444444444444444, \"#bd3786\"], [0.5555555555555556, \"#d8576b\"], [0.6666666666666666, \"#ed7953\"], [0.7777777777777778, \"#fb9f3a\"], [0.8888888888888888, \"#fdca26\"], [1.0, \"#f0f921\"]], \"type\": \"heatmap\"}], \"heatmapgl\": [{\"colorbar\": {\"outlinewidth\": 0, \"ticks\": \"\"}, \"colorscale\": [[0.0, \"#0d0887\"], [0.1111111111111111, \"#46039f\"], [0.2222222222222222, \"#7201a8\"], [0.3333333333333333, \"#9c179e\"], [0.4444444444444444, \"#bd3786\"], [0.5555555555555556, \"#d8576b\"], [0.6666666666666666, \"#ed7953\"], [0.7777777777777778, \"#fb9f3a\"], [0.8888888888888888, \"#fdca26\"], [1.0, \"#f0f921\"]], \"type\": \"heatmapgl\"}], \"histogram\": [{\"marker\": {\"colorbar\": {\"outlinewidth\": 0, \"ticks\": \"\"}}, \"type\": \"histogram\"}], \"histogram2d\": [{\"colorbar\": {\"outlinewidth\": 0, \"ticks\": \"\"}, \"colorscale\": [[0.0, \"#0d0887\"], [0.1111111111111111, \"#46039f\"], [0.2222222222222222, \"#7201a8\"], [0.3333333333333333, \"#9c179e\"], [0.4444444444444444, \"#bd3786\"], [0.5555555555555556, \"#d8576b\"], [0.6666666666666666, \"#ed7953\"], [0.7777777777777778, \"#fb9f3a\"], [0.8888888888888888, \"#fdca26\"], [1.0, \"#f0f921\"]], \"type\": \"histogram2d\"}], \"histogram2dcontour\": [{\"colorbar\": {\"outlinewidth\": 0, \"ticks\": \"\"}, \"colorscale\": [[0.0, \"#0d0887\"], [0.1111111111111111, \"#46039f\"], [0.2222222222222222, \"#7201a8\"], [0.3333333333333333, \"#9c179e\"], [0.4444444444444444, \"#bd3786\"], [0.5555555555555556, \"#d8576b\"], [0.6666666666666666, \"#ed7953\"], [0.7777777777777778, \"#fb9f3a\"], [0.8888888888888888, \"#fdca26\"], [1.0, \"#f0f921\"]], \"type\": \"histogram2dcontour\"}], \"mesh3d\": [{\"colorbar\": {\"outlinewidth\": 0, \"ticks\": \"\"}, \"type\": \"mesh3d\"}], \"parcoords\": [{\"line\": {\"colorbar\": {\"outlinewidth\": 0, \"ticks\": \"\"}}, \"type\": \"parcoords\"}], \"scatter\": [{\"marker\": {\"colorbar\": {\"outlinewidth\": 0, \"ticks\": \"\"}}, \"type\": \"scatter\"}], \"scatter3d\": [{\"line\": {\"colorbar\": {\"outlinewidth\": 0, \"ticks\": \"\"}}, \"marker\": {\"colorbar\": {\"outlinewidth\": 0, \"ticks\": \"\"}}, \"type\": \"scatter3d\"}], \"scattercarpet\": [{\"marker\": {\"colorbar\": {\"outlinewidth\": 0, \"ticks\": \"\"}}, \"type\": \"scattercarpet\"}], \"scattergeo\": [{\"marker\": {\"colorbar\": {\"outlinewidth\": 0, \"ticks\": \"\"}}, \"type\": \"scattergeo\"}], \"scattergl\": [{\"marker\": {\"colorbar\": {\"outlinewidth\": 0, \"ticks\": \"\"}}, \"type\": \"scattergl\"}], \"scattermapbox\": [{\"marker\": {\"colorbar\": {\"outlinewidth\": 0, \"ticks\": \"\"}}, \"type\": \"scattermapbox\"}], \"scatterpolar\": [{\"marker\": {\"colorbar\": {\"outlinewidth\": 0, \"ticks\": \"\"}}, \"type\": \"scatterpolar\"}], \"scatterpolargl\": [{\"marker\": {\"colorbar\": {\"outlinewidth\": 0, \"ticks\": \"\"}}, \"type\": \"scatterpolargl\"}], \"scatterternary\": [{\"marker\": {\"colorbar\": {\"outlinewidth\": 0, \"ticks\": \"\"}}, \"type\": \"scatterternary\"}], \"surface\": [{\"colorbar\": {\"outlinewidth\": 0, \"ticks\": \"\"}, \"colorscale\": [[0.0, \"#0d0887\"], [0.1111111111111111, \"#46039f\"], [0.2222222222222222, \"#7201a8\"], [0.3333333333333333, \"#9c179e\"], [0.4444444444444444, \"#bd3786\"], [0.5555555555555556, \"#d8576b\"], [0.6666666666666666, \"#ed7953\"], [0.7777777777777778, \"#fb9f3a\"], [0.8888888888888888, \"#fdca26\"], [1.0, \"#f0f921\"]], \"type\": \"surface\"}], \"table\": [{\"cells\": {\"fill\": {\"color\": \"#EBF0F8\"}, \"line\": {\"color\": \"white\"}}, \"header\": {\"fill\": {\"color\": \"#C8D4E3\"}, \"line\": {\"color\": \"white\"}}, \"type\": \"table\"}]}, \"layout\": {\"annotationdefaults\": {\"arrowcolor\": \"#2a3f5f\", \"arrowhead\": 0, \"arrowwidth\": 1}, \"colorscale\": {\"diverging\": [[0, \"#8e0152\"], [0.1, \"#c51b7d\"], [0.2, \"#de77ae\"], [0.3, \"#f1b6da\"], [0.4, \"#fde0ef\"], [0.5, \"#f7f7f7\"], [0.6, \"#e6f5d0\"], [0.7, \"#b8e186\"], [0.8, \"#7fbc41\"], [0.9, \"#4d9221\"], [1, \"#276419\"]], \"sequential\": [[0.0, \"#0d0887\"], [0.1111111111111111, \"#46039f\"], [0.2222222222222222, \"#7201a8\"], [0.3333333333333333, \"#9c179e\"], [0.4444444444444444, \"#bd3786\"], [0.5555555555555556, \"#d8576b\"], [0.6666666666666666, \"#ed7953\"], [0.7777777777777778, \"#fb9f3a\"], [0.8888888888888888, \"#fdca26\"], [1.0, \"#f0f921\"]], \"sequentialminus\": [[0.0, \"#0d0887\"], [0.1111111111111111, \"#46039f\"], [0.2222222222222222, \"#7201a8\"], [0.3333333333333333, \"#9c179e\"], [0.4444444444444444, \"#bd3786\"], [0.5555555555555556, \"#d8576b\"], [0.6666666666666666, \"#ed7953\"], [0.7777777777777778, \"#fb9f3a\"], [0.8888888888888888, \"#fdca26\"], [1.0, \"#f0f921\"]]}, \"colorway\": [\"#636efa\", \"#EF553B\", \"#00cc96\", \"#ab63fa\", \"#FFA15A\", \"#19d3f3\", \"#FF6692\", \"#B6E880\", \"#FF97FF\", \"#FECB52\"], \"font\": {\"color\": \"#2a3f5f\"}, \"geo\": {\"bgcolor\": \"white\", \"lakecolor\": \"white\", \"landcolor\": \"#E5ECF6\", \"showlakes\": true, \"showland\": true, \"subunitcolor\": \"white\"}, \"hoverlabel\": {\"align\": \"left\"}, \"hovermode\": \"closest\", \"mapbox\": {\"style\": \"light\"}, \"paper_bgcolor\": \"white\", \"plot_bgcolor\": \"#E5ECF6\", \"polar\": {\"angularaxis\": {\"gridcolor\": \"white\", \"linecolor\": \"white\", \"ticks\": \"\"}, \"bgcolor\": \"#E5ECF6\", \"radialaxis\": {\"gridcolor\": \"white\", \"linecolor\": \"white\", \"ticks\": \"\"}}, \"scene\": {\"xaxis\": {\"backgroundcolor\": \"#E5ECF6\", \"gridcolor\": \"white\", \"gridwidth\": 2, \"linecolor\": \"white\", \"showbackground\": true, \"ticks\": \"\", \"zerolinecolor\": \"white\"}, \"yaxis\": {\"backgroundcolor\": \"#E5ECF6\", \"gridcolor\": \"white\", \"gridwidth\": 2, \"linecolor\": \"white\", \"showbackground\": true, \"ticks\": \"\", \"zerolinecolor\": \"white\"}, \"zaxis\": {\"backgroundcolor\": \"#E5ECF6\", \"gridcolor\": \"white\", \"gridwidth\": 2, \"linecolor\": \"white\", \"showbackground\": true, \"ticks\": \"\", \"zerolinecolor\": \"white\"}}, \"shapedefaults\": {\"line\": {\"color\": \"#2a3f5f\"}}, \"ternary\": {\"aaxis\": {\"gridcolor\": \"white\", \"linecolor\": \"white\", \"ticks\": \"\"}, \"baxis\": {\"gridcolor\": \"white\", \"linecolor\": \"white\", \"ticks\": \"\"}, \"bgcolor\": \"#E5ECF6\", \"caxis\": {\"gridcolor\": \"white\", \"linecolor\": \"white\", \"ticks\": \"\"}}, \"title\": {\"x\": 0.05}, \"xaxis\": {\"automargin\": true, \"gridcolor\": \"white\", \"linecolor\": \"white\", \"ticks\": \"\", \"zerolinecolor\": \"white\", \"zerolinewidth\": 2}, \"yaxis\": {\"automargin\": true, \"gridcolor\": \"white\", \"linecolor\": \"white\", \"ticks\": \"\", \"zerolinecolor\": \"white\", \"zerolinewidth\": 2}}}, \"xaxis\": {\"anchor\": \"y\", \"domain\": [0.0, 0.98], \"title\": {\"text\": \"Names\"}}, \"yaxis\": {\"anchor\": \"x\", \"domain\": [0.0, 1.0], \"title\": {\"text\": \"Periods\"}}},\n",
       "                        {\"responsive\": true}\n",
       "                    ).then(function(){\n",
       "                            \n",
       "var gd = document.getElementById('9d906e84-13b9-451f-8691-da2ab8b55df2');\n",
       "var x = new MutationObserver(function (mutations, observer) {{\n",
       "        var display = window.getComputedStyle(gd).display;\n",
       "        if (!display || display === 'none') {{\n",
       "            console.log([gd, 'removed!']);\n",
       "            Plotly.purge(gd);\n",
       "            observer.disconnect();\n",
       "        }}\n",
       "}});\n",
       "\n",
       "// Listen for the removal of the full notebook cells\n",
       "var notebookContainer = gd.closest('#notebook-container');\n",
       "if (notebookContainer) {{\n",
       "    x.observe(notebookContainer, {childList: true});\n",
       "}}\n",
       "\n",
       "// Listen for the clearing of the current output cell\n",
       "var outputEl = gd.closest('.output');\n",
       "if (outputEl) {{\n",
       "    x.observe(outputEl, {childList: true});\n",
       "}}\n",
       "\n",
       "                        })\n",
       "                };\n",
       "                });\n",
       "            </script>\n",
       "        </div>"
      ]
     },
     "metadata": {},
     "output_type": "display_data"
    }
   ],
   "source": [
    "# retrieve percentage changes\n",
    "dfPriceActions, err = ek.get_data(RIC, 'TR.PricePctChg1M/100;TR.PricePctChg3M/100;TR.PricePctChg6M/100;TR.PricePctChg1Y/100')\n",
    "dfPriceActions\n",
    "\n",
    "#create lists out of results \n",
    "listNames = list(dfPriceActions.columns)\n",
    "listPA = list(dfPriceActions.iloc[0, :])\n",
    "\n",
    "# remove the first element, it's header\n",
    "listNames.pop(0)\n",
    "listPA.pop(0)\n",
    "#display(listNames, listPA)\n",
    "\n",
    "# Pandas DataFrame from dictionary\n",
    "dataDictPA = {'Names': listNames, 'Periods': listPA } \n",
    "dfPA = pd.DataFrame(dataDictPA, index = listNames) \n",
    "\n",
    "\n",
    "import plotly.graph_objects as go\n",
    "import plotly.express as px\n",
    "init_notebook_mode(connected=True)\n",
    "\n",
    "fig = px.bar(dfPA, x='Names', y='Periods')\n",
    "fig.show()"
   ]
  },
  {
   "cell_type": "markdown",
   "metadata": {},
   "source": [
    "### Profitability "
   ]
  },
  {
   "cell_type": "code",
   "execution_count": 259,
   "metadata": {},
   "outputs": [
    {
     "data": {
      "text/html": [
       "<div>\n",
       "<style scoped>\n",
       "    .dataframe tbody tr th:only-of-type {\n",
       "        vertical-align: middle;\n",
       "    }\n",
       "\n",
       "    .dataframe tbody tr th {\n",
       "        vertical-align: top;\n",
       "    }\n",
       "\n",
       "    .dataframe thead th {\n",
       "        text-align: right;\n",
       "    }\n",
       "</style>\n",
       "<table border=\"1\" class=\"dataframe\">\n",
       "  <thead>\n",
       "    <tr style=\"text-align: right;\">\n",
       "      <th></th>\n",
       "      <th>FY0</th>\n",
       "      <th>5 Year Avg</th>\n",
       "    </tr>\n",
       "  </thead>\n",
       "  <tbody>\n",
       "    <tr>\n",
       "      <th>Gross Margin</th>\n",
       "      <td>47.296720</td>\n",
       "      <td>47.685373</td>\n",
       "    </tr>\n",
       "    <tr>\n",
       "      <th>R/D % Sales</th>\n",
       "      <td>0.077631</td>\n",
       "      <td>0.070337</td>\n",
       "    </tr>\n",
       "    <tr>\n",
       "      <th>SGA % Sales</th>\n",
       "      <td>0.252777</td>\n",
       "      <td>0.241042</td>\n",
       "    </tr>\n",
       "    <tr>\n",
       "      <th>EBITDA Margin</th>\n",
       "      <td>24.610160</td>\n",
       "      <td>23.801055</td>\n",
       "    </tr>\n",
       "    <tr>\n",
       "      <th>Operating Margin</th>\n",
       "      <td>13.177440</td>\n",
       "      <td>15.390266</td>\n",
       "    </tr>\n",
       "    <tr>\n",
       "      <th>Pretax Margin</th>\n",
       "      <td>13.177440</td>\n",
       "      <td>15.390517</td>\n",
       "    </tr>\n",
       "    <tr>\n",
       "      <th>Net Margin</th>\n",
       "      <td>12.419150</td>\n",
       "      <td>14.292758</td>\n",
       "    </tr>\n",
       "    <tr>\n",
       "      <th>CF/Sales</th>\n",
       "      <td>0.202730</td>\n",
       "      <td>0.201579</td>\n",
       "    </tr>\n",
       "    <tr>\n",
       "      <th>Tax Rate</th>\n",
       "      <td>5.754476</td>\n",
       "      <td>0.071327</td>\n",
       "    </tr>\n",
       "    <tr>\n",
       "      <th>ROA</th>\n",
       "      <td>6.953638</td>\n",
       "      <td>9.292783</td>\n",
       "    </tr>\n",
       "    <tr>\n",
       "      <th>ROE</th>\n",
       "      <td>50.914018</td>\n",
       "      <td>70.312146</td>\n",
       "    </tr>\n",
       "  </tbody>\n",
       "</table>\n",
       "</div>"
      ],
      "text/plain": [
       "                        FY0  5 Year Avg\n",
       "Gross Margin      47.296720   47.685373\n",
       "R/D % Sales        0.077631    0.070337\n",
       "SGA % Sales        0.252777    0.241042\n",
       "EBITDA Margin     24.610160   23.801055\n",
       "Operating Margin  13.177440   15.390266\n",
       "Pretax Margin     13.177440   15.390517\n",
       "Net Margin        12.419150   14.292758\n",
       "CF/Sales           0.202730    0.201579\n",
       "Tax Rate           5.754476    0.071327\n",
       "ROA                6.953638    9.292783\n",
       "ROE               50.914018   70.312146"
      ]
     },
     "execution_count": 259,
     "metadata": {},
     "output_type": "execute_result"
    }
   ],
   "source": [
    "dfProfit, err = ek.get_data(RIC, 'TR.GrossMargin;TR.ResearchAndDevelopment;TR.TotalRevenue;TR.SGAExpenseTotal;TR.EBITDAMarginPercent;TR.OperProfitMarginPct;TR.PretaxMarginPercent;TR.NetProfitMargin;TR.CashFlowMarginPercent/100;TR.IncomeTaxRatePct;TR.ROATotalAssetsPercent;TR.ReturnonAvgTotEqtyPctNetIncomeBeforeExtraItems',{'Period':'FY0','Transpose':'Y'})\n",
    "#dfProfit   \n",
    "dfProfit2, err = ek.get_data(RIC, \n",
    "    'TR.GrossProfitMarginPct5YrAvg();TR.EBITDAMarginPct5YrAvg;TR.OperatingProfitMarginPct5YrAvg;TR.IncomeBefTaxMarginpct5YrAvg();TR.IncomeAftTaxMarginpct5YrAvg();TR.CashFlowMarginPct5YrAvg()/100;TR.IncomeTaxRatePct5YrAvg()/100;TR.ReturnonAvgTotAssetsPctIncomeAfterTax5YrAvg')\n",
    "dfProfit3, err = ek.get_data(RIC, 'TR.ResearchAndDevelopment(),TR.TotalRevenue(),TR.SGAExpenseTotal,TR.ReturnonAvgTotEqtyPctNetIncomeBeforeExtraItems',{'Period':'FY0','Sdate':0,'Edate':-4,'Frq':'FY'})\n",
    "dfProfit3['RAD over TR'] = dfProfit3['Research And Development']/dfProfit3['Total Revenue']\n",
    "dfProfit3['SGA over TR'] = dfProfit3['Selling/General/Administrative Expense, Total']/dfProfit3['Total Revenue']\n",
    "#dfProfit2\n",
    "\n",
    "#Create a dictionary out of results, and structure a single multi-row Data Frame\n",
    "# initialise results per column \n",
    "dataDictProfit = {'FY0':\n",
    "        [dfProfit.at[0,'Gross Margin, Percent'],  dfProfit.at[0,'Research And Development']/dfProfit.at[0,'Total Revenue'],\n",
    "        dfProfit.at[0,'Selling/General/Administrative Expense, Total']/dfProfit.at[0,'Total Revenue'],\n",
    "        dfProfit.at[0,'EBITDA Margin, Percent'],dfProfit.at[0,'Operating Profit Margin, Percent'],\n",
    "        dfProfit.at[0,'Pretax Margin, Percent'],dfProfit.at[0,'Net Profit Margin, (%)'],\n",
    "        dfProfit.at[0,'TR.CASHFLOWMARGINPERCENT/100'],dfProfit.at[0,'Income Tax Rate, %'],\n",
    "        dfProfit.at[0,'ROA Total Assets, Percent'],dfProfit.at[0,'ROE Total Equity %']\n",
    "    ]\n",
    "        ,'5 Year Avg':[dfProfit2.at[0,'Gross Profit Margin, %, 5 Yr Avg'],dfProfit3['RAD over TR'].mean(),\n",
    "                       dfProfit3['SGA over TR'].mean(), dfProfit2.at[0,'EBITDA Margin, %, 5 Yr Avg'],\n",
    "                       dfProfit2.at[0,'Oper Profit Margin, %, 5 Yr Avg'],dfProfit2.at[0,'Income Bef Tax Margin, %, 5 Yr Avg'],\n",
    "                       dfProfit2.at[0,'Income Aft Tax Margin, %, 5 Yr Avg'],dfProfit2.at[0,'TR.CASHFLOWMARGINPCT5YRAVG()/100'],\n",
    "                       dfProfit2.at[0,'TR.INCOMETAXRATEPCT5YRAVG()/100'],dfProfit2.at[0,'ROA Tot Assets, %, 5 Yr Avg'],\n",
    "                       dfProfit3['ROE Total Equity %'].mean()\n",
    "]\n",
    "                       \n",
    "}\n",
    "#dataDictProfit\n",
    "\n",
    "# structure as required multi-row\n",
    "dfMultiProfit = pd.DataFrame(dataDictProfit, index =[\n",
    "    'Gross Margin','R/D % Sales','SGA % Sales','EBITDA Margin','Operating Margin','Pretax Margin','Net Margin',\n",
    "    'CF/Sales','Tax Rate','ROA','ROE'\n",
    "    ]) \n",
    "dfMultiProfit   "
   ]
  },
  {
   "cell_type": "markdown",
   "metadata": {},
   "source": [
    "### FY0 Sales By Region "
   ]
  },
  {
   "cell_type": "code",
   "execution_count": 265,
   "metadata": {},
   "outputs": [
    {
     "data": {
      "text/html": [
       "<div>\n",
       "<style scoped>\n",
       "    .dataframe tbody tr th:only-of-type {\n",
       "        vertical-align: middle;\n",
       "    }\n",
       "\n",
       "    .dataframe tbody tr th {\n",
       "        vertical-align: top;\n",
       "    }\n",
       "\n",
       "    .dataframe thead th {\n",
       "        text-align: right;\n",
       "    }\n",
       "</style>\n",
       "<table border=\"1\" class=\"dataframe\">\n",
       "  <thead>\n",
       "    <tr style=\"text-align: right;\">\n",
       "      <th></th>\n",
       "      <th>Instrument</th>\n",
       "      <th>Segment Name</th>\n",
       "      <th>Geographic Total Revenues (Calculated)</th>\n",
       "    </tr>\n",
       "  </thead>\n",
       "  <tbody>\n",
       "    <tr>\n",
       "      <th>0</th>\n",
       "      <td>IBM</td>\n",
       "      <td>Americas</td>\n",
       "      <td>36274</td>\n",
       "    </tr>\n",
       "    <tr>\n",
       "      <th>1</th>\n",
       "      <td>IBM</td>\n",
       "      <td>Europe/Middle East/Africa</td>\n",
       "      <td>24443</td>\n",
       "    </tr>\n",
       "    <tr>\n",
       "      <th>2</th>\n",
       "      <td>IBM</td>\n",
       "      <td>Asia/Pacific</td>\n",
       "      <td>16430</td>\n",
       "    </tr>\n",
       "    <tr>\n",
       "      <th>3</th>\n",
       "      <td>IBM</td>\n",
       "      <td>Segment Total</td>\n",
       "      <td>77147</td>\n",
       "    </tr>\n",
       "    <tr>\n",
       "      <th>4</th>\n",
       "      <td>IBM</td>\n",
       "      <td>Consolidated Total</td>\n",
       "      <td>77147</td>\n",
       "    </tr>\n",
       "  </tbody>\n",
       "</table>\n",
       "</div>"
      ],
      "text/plain": [
       "  Instrument               Segment Name  \\\n",
       "0        IBM                   Americas   \n",
       "1        IBM  Europe/Middle East/Africa   \n",
       "2        IBM               Asia/Pacific   \n",
       "3        IBM              Segment Total   \n",
       "4        IBM         Consolidated Total   \n",
       "\n",
       "   Geographic Total Revenues (Calculated)  \n",
       "0                                   36274  \n",
       "1                                   24443  \n",
       "2                                   16430  \n",
       "3                                   77147  \n",
       "4                                   77147  "
      ]
     },
     "execution_count": 265,
     "metadata": {},
     "output_type": "execute_result"
    }
   ],
   "source": [
    "dfSalesByRegion, err = ek.get_data(RIC, 'TR.BGS.GeoTotalRevenue.segmentName;TR.BGS.GeoTotalRevenue()',{'Scale':'6','curn':df.at[0,'Currency']})\n",
    "dfSalesByRegion"
   ]
  },
  {
   "cell_type": "markdown",
   "metadata": {},
   "source": [
    "## Price Chart"
   ]
  },
  {
   "cell_type": "markdown",
   "metadata": {},
   "source": [
    "### Pricing Data  - 1 -  Closing Prices"
   ]
  },
  {
   "cell_type": "code",
   "execution_count": 336,
   "metadata": {},
   "outputs": [
    {
     "data": {
      "text/html": [
       "<div>\n",
       "<style scoped>\n",
       "    .dataframe tbody tr th:only-of-type {\n",
       "        vertical-align: middle;\n",
       "    }\n",
       "\n",
       "    .dataframe tbody tr th {\n",
       "        vertical-align: top;\n",
       "    }\n",
       "\n",
       "    .dataframe thead th {\n",
       "        text-align: right;\n",
       "    }\n",
       "</style>\n",
       "<table border=\"1\" class=\"dataframe\">\n",
       "  <thead>\n",
       "    <tr style=\"text-align: right;\">\n",
       "      <th></th>\n",
       "      <th>Instrument</th>\n",
       "      <th>Calc Date</th>\n",
       "      <th>Price Close</th>\n",
       "    </tr>\n",
       "  </thead>\n",
       "  <tbody>\n",
       "    <tr>\n",
       "      <th>0</th>\n",
       "      <td>IBM</td>\n",
       "      <td>2015-03-16</td>\n",
       "      <td>157.08</td>\n",
       "    </tr>\n",
       "    <tr>\n",
       "      <th>1</th>\n",
       "      <td>IBM</td>\n",
       "      <td>2015-03-17</td>\n",
       "      <td>156.96</td>\n",
       "    </tr>\n",
       "    <tr>\n",
       "      <th>2</th>\n",
       "      <td>IBM</td>\n",
       "      <td>2015-03-18</td>\n",
       "      <td>159.81</td>\n",
       "    </tr>\n",
       "    <tr>\n",
       "      <th>3</th>\n",
       "      <td>IBM</td>\n",
       "      <td>2015-03-19</td>\n",
       "      <td>159.81</td>\n",
       "    </tr>\n",
       "    <tr>\n",
       "      <th>4</th>\n",
       "      <td>IBM</td>\n",
       "      <td>2015-03-20</td>\n",
       "      <td>162.88</td>\n",
       "    </tr>\n",
       "    <tr>\n",
       "      <th>5</th>\n",
       "      <td>IBM</td>\n",
       "      <td>2015-03-23</td>\n",
       "      <td>164.63</td>\n",
       "    </tr>\n",
       "    <tr>\n",
       "      <th>6</th>\n",
       "      <td>IBM</td>\n",
       "      <td>2015-03-24</td>\n",
       "      <td>163.00</td>\n",
       "    </tr>\n",
       "    <tr>\n",
       "      <th>7</th>\n",
       "      <td>IBM</td>\n",
       "      <td>2015-03-25</td>\n",
       "      <td>159.20</td>\n",
       "    </tr>\n",
       "    <tr>\n",
       "      <th>8</th>\n",
       "      <td>IBM</td>\n",
       "      <td>2015-03-26</td>\n",
       "      <td>160.59</td>\n",
       "    </tr>\n",
       "    <tr>\n",
       "      <th>9</th>\n",
       "      <td>IBM</td>\n",
       "      <td>2015-03-27</td>\n",
       "      <td>160.40</td>\n",
       "    </tr>\n",
       "    <tr>\n",
       "      <th>10</th>\n",
       "      <td>IBM</td>\n",
       "      <td>2015-03-30</td>\n",
       "      <td>162.67</td>\n",
       "    </tr>\n",
       "    <tr>\n",
       "      <th>11</th>\n",
       "      <td>IBM</td>\n",
       "      <td>2015-03-31</td>\n",
       "      <td>160.50</td>\n",
       "    </tr>\n",
       "    <tr>\n",
       "      <th>12</th>\n",
       "      <td>IBM</td>\n",
       "      <td>2015-04-01</td>\n",
       "      <td>159.18</td>\n",
       "    </tr>\n",
       "    <tr>\n",
       "      <th>13</th>\n",
       "      <td>IBM</td>\n",
       "      <td>2015-04-02</td>\n",
       "      <td>160.45</td>\n",
       "    </tr>\n",
       "    <tr>\n",
       "      <th>14</th>\n",
       "      <td>IBM</td>\n",
       "      <td>2015-04-06</td>\n",
       "      <td>162.04</td>\n",
       "    </tr>\n",
       "    <tr>\n",
       "      <th>15</th>\n",
       "      <td>IBM</td>\n",
       "      <td>2015-04-07</td>\n",
       "      <td>162.07</td>\n",
       "    </tr>\n",
       "    <tr>\n",
       "      <th>16</th>\n",
       "      <td>IBM</td>\n",
       "      <td>2015-04-08</td>\n",
       "      <td>161.85</td>\n",
       "    </tr>\n",
       "    <tr>\n",
       "      <th>17</th>\n",
       "      <td>IBM</td>\n",
       "      <td>2015-04-09</td>\n",
       "      <td>162.34</td>\n",
       "    </tr>\n",
       "    <tr>\n",
       "      <th>18</th>\n",
       "      <td>IBM</td>\n",
       "      <td>2015-04-10</td>\n",
       "      <td>162.86</td>\n",
       "    </tr>\n",
       "    <tr>\n",
       "      <th>19</th>\n",
       "      <td>IBM</td>\n",
       "      <td>2015-04-13</td>\n",
       "      <td>162.38</td>\n",
       "    </tr>\n",
       "    <tr>\n",
       "      <th>20</th>\n",
       "      <td>IBM</td>\n",
       "      <td>2015-04-14</td>\n",
       "      <td>162.30</td>\n",
       "    </tr>\n",
       "    <tr>\n",
       "      <th>21</th>\n",
       "      <td>IBM</td>\n",
       "      <td>2015-04-15</td>\n",
       "      <td>164.13</td>\n",
       "    </tr>\n",
       "    <tr>\n",
       "      <th>22</th>\n",
       "      <td>IBM</td>\n",
       "      <td>2015-04-16</td>\n",
       "      <td>163.13</td>\n",
       "    </tr>\n",
       "    <tr>\n",
       "      <th>23</th>\n",
       "      <td>IBM</td>\n",
       "      <td>2015-04-17</td>\n",
       "      <td>160.67</td>\n",
       "    </tr>\n",
       "    <tr>\n",
       "      <th>24</th>\n",
       "      <td>IBM</td>\n",
       "      <td>2015-04-20</td>\n",
       "      <td>166.16</td>\n",
       "    </tr>\n",
       "    <tr>\n",
       "      <th>25</th>\n",
       "      <td>IBM</td>\n",
       "      <td>2015-04-21</td>\n",
       "      <td>164.26</td>\n",
       "    </tr>\n",
       "    <tr>\n",
       "      <th>26</th>\n",
       "      <td>IBM</td>\n",
       "      <td>2015-04-22</td>\n",
       "      <td>165.36</td>\n",
       "    </tr>\n",
       "    <tr>\n",
       "      <th>27</th>\n",
       "      <td>IBM</td>\n",
       "      <td>2015-04-23</td>\n",
       "      <td>170.24</td>\n",
       "    </tr>\n",
       "    <tr>\n",
       "      <th>28</th>\n",
       "      <td>IBM</td>\n",
       "      <td>2015-04-24</td>\n",
       "      <td>169.78</td>\n",
       "    </tr>\n",
       "    <tr>\n",
       "      <th>29</th>\n",
       "      <td>IBM</td>\n",
       "      <td>2015-04-27</td>\n",
       "      <td>170.73</td>\n",
       "    </tr>\n",
       "    <tr>\n",
       "      <th>...</th>\n",
       "      <td>...</td>\n",
       "      <td>...</td>\n",
       "      <td>...</td>\n",
       "    </tr>\n",
       "    <tr>\n",
       "      <th>1229</th>\n",
       "      <td>IBM</td>\n",
       "      <td>2020-01-31</td>\n",
       "      <td>143.73</td>\n",
       "    </tr>\n",
       "    <tr>\n",
       "      <th>1230</th>\n",
       "      <td>IBM</td>\n",
       "      <td>2020-02-03</td>\n",
       "      <td>146.27</td>\n",
       "    </tr>\n",
       "    <tr>\n",
       "      <th>1231</th>\n",
       "      <td>IBM</td>\n",
       "      <td>2020-02-04</td>\n",
       "      <td>149.11</td>\n",
       "    </tr>\n",
       "    <tr>\n",
       "      <th>1232</th>\n",
       "      <td>IBM</td>\n",
       "      <td>2020-02-05</td>\n",
       "      <td>156.33</td>\n",
       "    </tr>\n",
       "    <tr>\n",
       "      <th>1233</th>\n",
       "      <td>IBM</td>\n",
       "      <td>2020-02-06</td>\n",
       "      <td>156.76</td>\n",
       "    </tr>\n",
       "    <tr>\n",
       "      <th>1234</th>\n",
       "      <td>IBM</td>\n",
       "      <td>2020-02-07</td>\n",
       "      <td>153.41</td>\n",
       "    </tr>\n",
       "    <tr>\n",
       "      <th>1235</th>\n",
       "      <td>IBM</td>\n",
       "      <td>2020-02-10</td>\n",
       "      <td>154.43</td>\n",
       "    </tr>\n",
       "    <tr>\n",
       "      <th>1236</th>\n",
       "      <td>IBM</td>\n",
       "      <td>2020-02-11</td>\n",
       "      <td>153.48</td>\n",
       "    </tr>\n",
       "    <tr>\n",
       "      <th>1237</th>\n",
       "      <td>IBM</td>\n",
       "      <td>2020-02-12</td>\n",
       "      <td>155.31</td>\n",
       "    </tr>\n",
       "    <tr>\n",
       "      <th>1238</th>\n",
       "      <td>IBM</td>\n",
       "      <td>2020-02-13</td>\n",
       "      <td>154.31</td>\n",
       "    </tr>\n",
       "    <tr>\n",
       "      <th>1239</th>\n",
       "      <td>IBM</td>\n",
       "      <td>2020-02-14</td>\n",
       "      <td>150.70</td>\n",
       "    </tr>\n",
       "    <tr>\n",
       "      <th>1240</th>\n",
       "      <td>IBM</td>\n",
       "      <td>2020-02-18</td>\n",
       "      <td>151.10</td>\n",
       "    </tr>\n",
       "    <tr>\n",
       "      <th>1241</th>\n",
       "      <td>IBM</td>\n",
       "      <td>2020-02-19</td>\n",
       "      <td>150.86</td>\n",
       "    </tr>\n",
       "    <tr>\n",
       "      <th>1242</th>\n",
       "      <td>IBM</td>\n",
       "      <td>2020-02-20</td>\n",
       "      <td>151.22</td>\n",
       "    </tr>\n",
       "    <tr>\n",
       "      <th>1243</th>\n",
       "      <td>IBM</td>\n",
       "      <td>2020-02-21</td>\n",
       "      <td>149.84</td>\n",
       "    </tr>\n",
       "    <tr>\n",
       "      <th>1244</th>\n",
       "      <td>IBM</td>\n",
       "      <td>2020-02-24</td>\n",
       "      <td>146.43</td>\n",
       "    </tr>\n",
       "    <tr>\n",
       "      <th>1245</th>\n",
       "      <td>IBM</td>\n",
       "      <td>2020-02-25</td>\n",
       "      <td>141.71</td>\n",
       "    </tr>\n",
       "    <tr>\n",
       "      <th>1246</th>\n",
       "      <td>IBM</td>\n",
       "      <td>2020-02-26</td>\n",
       "      <td>139.75</td>\n",
       "    </tr>\n",
       "    <tr>\n",
       "      <th>1247</th>\n",
       "      <td>IBM</td>\n",
       "      <td>2020-02-27</td>\n",
       "      <td>133.11</td>\n",
       "    </tr>\n",
       "    <tr>\n",
       "      <th>1248</th>\n",
       "      <td>IBM</td>\n",
       "      <td>2020-02-28</td>\n",
       "      <td>130.15</td>\n",
       "    </tr>\n",
       "    <tr>\n",
       "      <th>1249</th>\n",
       "      <td>IBM</td>\n",
       "      <td>2020-03-02</td>\n",
       "      <td>134.30</td>\n",
       "    </tr>\n",
       "    <tr>\n",
       "      <th>1250</th>\n",
       "      <td>IBM</td>\n",
       "      <td>2020-03-03</td>\n",
       "      <td>128.90</td>\n",
       "    </tr>\n",
       "    <tr>\n",
       "      <th>1251</th>\n",
       "      <td>IBM</td>\n",
       "      <td>2020-03-04</td>\n",
       "      <td>134.22</td>\n",
       "    </tr>\n",
       "    <tr>\n",
       "      <th>1252</th>\n",
       "      <td>IBM</td>\n",
       "      <td>2020-03-05</td>\n",
       "      <td>129.55</td>\n",
       "    </tr>\n",
       "    <tr>\n",
       "      <th>1253</th>\n",
       "      <td>IBM</td>\n",
       "      <td>2020-03-06</td>\n",
       "      <td>127.73</td>\n",
       "    </tr>\n",
       "    <tr>\n",
       "      <th>1254</th>\n",
       "      <td>IBM</td>\n",
       "      <td>2020-03-09</td>\n",
       "      <td>117.81</td>\n",
       "    </tr>\n",
       "    <tr>\n",
       "      <th>1255</th>\n",
       "      <td>IBM</td>\n",
       "      <td>2020-03-10</td>\n",
       "      <td>124.77</td>\n",
       "    </tr>\n",
       "    <tr>\n",
       "      <th>1256</th>\n",
       "      <td>IBM</td>\n",
       "      <td>2020-03-11</td>\n",
       "      <td>117.97</td>\n",
       "    </tr>\n",
       "    <tr>\n",
       "      <th>1257</th>\n",
       "      <td>IBM</td>\n",
       "      <td>2020-03-12</td>\n",
       "      <td>102.81</td>\n",
       "    </tr>\n",
       "    <tr>\n",
       "      <th>1258</th>\n",
       "      <td>IBM</td>\n",
       "      <td>2020-03-13</td>\n",
       "      <td>107.95</td>\n",
       "    </tr>\n",
       "  </tbody>\n",
       "</table>\n",
       "<p>1259 rows × 3 columns</p>\n",
       "</div>"
      ],
      "text/plain": [
       "     Instrument   Calc Date  Price Close\n",
       "0           IBM  2015-03-16       157.08\n",
       "1           IBM  2015-03-17       156.96\n",
       "2           IBM  2015-03-18       159.81\n",
       "3           IBM  2015-03-19       159.81\n",
       "4           IBM  2015-03-20       162.88\n",
       "5           IBM  2015-03-23       164.63\n",
       "6           IBM  2015-03-24       163.00\n",
       "7           IBM  2015-03-25       159.20\n",
       "8           IBM  2015-03-26       160.59\n",
       "9           IBM  2015-03-27       160.40\n",
       "10          IBM  2015-03-30       162.67\n",
       "11          IBM  2015-03-31       160.50\n",
       "12          IBM  2015-04-01       159.18\n",
       "13          IBM  2015-04-02       160.45\n",
       "14          IBM  2015-04-06       162.04\n",
       "15          IBM  2015-04-07       162.07\n",
       "16          IBM  2015-04-08       161.85\n",
       "17          IBM  2015-04-09       162.34\n",
       "18          IBM  2015-04-10       162.86\n",
       "19          IBM  2015-04-13       162.38\n",
       "20          IBM  2015-04-14       162.30\n",
       "21          IBM  2015-04-15       164.13\n",
       "22          IBM  2015-04-16       163.13\n",
       "23          IBM  2015-04-17       160.67\n",
       "24          IBM  2015-04-20       166.16\n",
       "25          IBM  2015-04-21       164.26\n",
       "26          IBM  2015-04-22       165.36\n",
       "27          IBM  2015-04-23       170.24\n",
       "28          IBM  2015-04-24       169.78\n",
       "29          IBM  2015-04-27       170.73\n",
       "...         ...         ...          ...\n",
       "1229        IBM  2020-01-31       143.73\n",
       "1230        IBM  2020-02-03       146.27\n",
       "1231        IBM  2020-02-04       149.11\n",
       "1232        IBM  2020-02-05       156.33\n",
       "1233        IBM  2020-02-06       156.76\n",
       "1234        IBM  2020-02-07       153.41\n",
       "1235        IBM  2020-02-10       154.43\n",
       "1236        IBM  2020-02-11       153.48\n",
       "1237        IBM  2020-02-12       155.31\n",
       "1238        IBM  2020-02-13       154.31\n",
       "1239        IBM  2020-02-14       150.70\n",
       "1240        IBM  2020-02-18       151.10\n",
       "1241        IBM  2020-02-19       150.86\n",
       "1242        IBM  2020-02-20       151.22\n",
       "1243        IBM  2020-02-21       149.84\n",
       "1244        IBM  2020-02-24       146.43\n",
       "1245        IBM  2020-02-25       141.71\n",
       "1246        IBM  2020-02-26       139.75\n",
       "1247        IBM  2020-02-27       133.11\n",
       "1248        IBM  2020-02-28       130.15\n",
       "1249        IBM  2020-03-02       134.30\n",
       "1250        IBM  2020-03-03       128.90\n",
       "1251        IBM  2020-03-04       134.22\n",
       "1252        IBM  2020-03-05       129.55\n",
       "1253        IBM  2020-03-06       127.73\n",
       "1254        IBM  2020-03-09       117.81\n",
       "1255        IBM  2020-03-10       124.77\n",
       "1256        IBM  2020-03-11       117.97\n",
       "1257        IBM  2020-03-12       102.81\n",
       "1258        IBM  2020-03-13       107.95\n",
       "\n",
       "[1259 rows x 3 columns]"
      ]
     },
     "execution_count": 336,
     "metadata": {},
     "output_type": "execute_result"
    }
   ],
   "source": [
    "\n",
    "dfPricingIntermediate1, err = ek.get_data(RIC, 'TR.PriceClose.calcdate;TR.PriceClose',{'sdate':'-5AY','edate':'0d','frq':'D'})\n",
    "dfPricingIntermediate1\n"
   ]
  },
  {
   "cell_type": "markdown",
   "metadata": {},
   "source": [
    "### Pricing Data - 2 - Dates "
   ]
  },
  {
   "cell_type": "code",
   "execution_count": 335,
   "metadata": {},
   "outputs": [
    {
     "data": {
      "text/plain": [
       "'2020-03-13T00:00:00Z'"
      ]
     },
     "metadata": {},
     "output_type": "display_data"
    },
    {
     "data": {
      "text/plain": [
       "'2018-03-16T00:00:00Z'"
      ]
     },
     "metadata": {},
     "output_type": "display_data"
    },
    {
     "data": {
      "text/plain": [
       "'2015-03-16T00:00:00Z'"
      ]
     },
     "metadata": {},
     "output_type": "display_data"
    },
    {
     "data": {
      "text/plain": [
       "'2017-02-17T00:00:00Z'"
      ]
     },
     "metadata": {},
     "output_type": "display_data"
    },
    {
     "data": {
      "text/plain": [
       "'2018-03-16T00:00:00Z'"
      ]
     },
     "metadata": {},
     "output_type": "display_data"
    },
    {
     "data": {
      "text/plain": [
       "'2017-02-17T00:00:00Z'"
      ]
     },
     "metadata": {},
     "output_type": "display_data"
    }
   ],
   "source": [
    "# Intermediate dates to use in the next step\n",
    "import datetime\n",
    "from datetime import datetime\n",
    "from datetime import timedelta\n",
    "\n",
    "def workdays(d, end, excluded=(6, 7)):\n",
    "    days = []\n",
    "    while d.date() <= end.date():\n",
    "        if d.isoweekday() not in excluded:\n",
    "            days.append(d)\n",
    "        d += timedelta(days=1)\n",
    "    return days\n",
    "\n",
    "RIC2 = 'MSFT.O'\n",
    "\n",
    "dfDatesMSFTIntermediate1, err = ek.get_data(RIC2, 'TR.PriceClose.date',{'sdate':'0d'})\n",
    "dfDatesMSFTIntermediate2, err = ek.get_data(RIC2, 'TR.PriceClose.date',{'sdate':'-24AM'})\n",
    "\n",
    "\n",
    "# number of work days between the two dates + 250\n",
    "daysBetween = len(workdays((datetime.strptime(dfDatesMSFTIntermediate2.at[0,'Date'],'%Y-%m-%dT%H:%M:%SZ')),\n",
    "               (datetime.strptime(dfDatesMSFTIntermediate1.at[0,'Date'],'%Y-%m-%dT%H:%M:%SZ')))) + 250\n",
    "daysBetween\n",
    "dfDatesMSFTIntermediate4, err = ek.get_data(RIC2, 'TR.PriceClose.date',{'sdate':'-'+str(daysBetween)+'D'})\n",
    "\n",
    "display(dfDatesMSFTIntermediate1.at[0,'Date'],\n",
    "dfDatesMSFTIntermediate2.at[0,'Date'],\n",
    "dfPricingIntermediate1.at[0,'Calc Date']+'T00:00:00Z',\n",
    "dfDatesMSFTIntermediate4.at[0,'Date'])\n",
    "\n",
    "if dfPricingIntermediate1.at[0,'Calc Date']+'T00:00:00Z' > dfDatesMSFTIntermediate2.at[0,'Date']:\n",
    "    laterDate1 = dfPricingIntermediate1.at[0,'Calc Date']+'T00:00:00Z'\n",
    "else:\n",
    "    laterDate1 = dfDatesMSFTIntermediate2.at[0,'Date']\n",
    "    \n",
    "\n",
    "if dfPricingIntermediate1.at[0,'Calc Date']+'T00:00:00Z' > dfDatesMSFTIntermediate4.at[0,'Date']:\n",
    "    laterDate2 = dfPricingIntermediate1.at[0,'Calc Date']+'T00:00:00Z'\n",
    "else:\n",
    "    laterDate2 = dfDatesMSFTIntermediate4.at[0,'Date']\n",
    "    \n",
    "display(laterDate1,laterDate2)"
   ]
  },
  {
   "cell_type": "markdown",
   "metadata": {},
   "source": [
    "### Pricing Data - 3 - Volumes, Prices, 50 days, 200 days "
   ]
  },
  {
   "cell_type": "code",
   "execution_count": 352,
   "metadata": {},
   "outputs": [
    {
     "data": {
      "text/html": [
       "<div>\n",
       "<style scoped>\n",
       "    .dataframe tbody tr th:only-of-type {\n",
       "        vertical-align: middle;\n",
       "    }\n",
       "\n",
       "    .dataframe tbody tr th {\n",
       "        vertical-align: top;\n",
       "    }\n",
       "\n",
       "    .dataframe thead th {\n",
       "        text-align: right;\n",
       "    }\n",
       "</style>\n",
       "<table border=\"1\" class=\"dataframe\">\n",
       "  <thead>\n",
       "    <tr style=\"text-align: right;\">\n",
       "      <th></th>\n",
       "      <th>Instrument</th>\n",
       "      <th>Calc Date</th>\n",
       "      <th>Volume</th>\n",
       "      <th>Price Close</th>\n",
       "    </tr>\n",
       "  </thead>\n",
       "  <tbody>\n",
       "    <tr>\n",
       "      <th>0</th>\n",
       "      <td>IBM</td>\n",
       "      <td>2020-03-16</td>\n",
       "      <td>10547313</td>\n",
       "      <td>99.08</td>\n",
       "    </tr>\n",
       "    <tr>\n",
       "      <th>1</th>\n",
       "      <td>IBM</td>\n",
       "      <td>2020-03-13</td>\n",
       "      <td>12502113</td>\n",
       "      <td>107.95</td>\n",
       "    </tr>\n",
       "    <tr>\n",
       "      <th>2</th>\n",
       "      <td>IBM</td>\n",
       "      <td>2020-03-12</td>\n",
       "      <td>12512655</td>\n",
       "      <td>102.81</td>\n",
       "    </tr>\n",
       "    <tr>\n",
       "      <th>3</th>\n",
       "      <td>IBM</td>\n",
       "      <td>2020-03-11</td>\n",
       "      <td>8451038</td>\n",
       "      <td>117.97</td>\n",
       "    </tr>\n",
       "    <tr>\n",
       "      <th>4</th>\n",
       "      <td>IBM</td>\n",
       "      <td>2020-03-10</td>\n",
       "      <td>11410688</td>\n",
       "      <td>124.77</td>\n",
       "    </tr>\n",
       "    <tr>\n",
       "      <th>5</th>\n",
       "      <td>IBM</td>\n",
       "      <td>2020-03-09</td>\n",
       "      <td>10757487</td>\n",
       "      <td>117.81</td>\n",
       "    </tr>\n",
       "    <tr>\n",
       "      <th>6</th>\n",
       "      <td>IBM</td>\n",
       "      <td>2020-03-06</td>\n",
       "      <td>8193257</td>\n",
       "      <td>127.73</td>\n",
       "    </tr>\n",
       "    <tr>\n",
       "      <th>7</th>\n",
       "      <td>IBM</td>\n",
       "      <td>2020-03-05</td>\n",
       "      <td>5446227</td>\n",
       "      <td>129.55</td>\n",
       "    </tr>\n",
       "    <tr>\n",
       "      <th>8</th>\n",
       "      <td>IBM</td>\n",
       "      <td>2020-03-04</td>\n",
       "      <td>4996370</td>\n",
       "      <td>134.22</td>\n",
       "    </tr>\n",
       "    <tr>\n",
       "      <th>9</th>\n",
       "      <td>IBM</td>\n",
       "      <td>2020-03-03</td>\n",
       "      <td>7896068</td>\n",
       "      <td>128.90</td>\n",
       "    </tr>\n",
       "    <tr>\n",
       "      <th>10</th>\n",
       "      <td>IBM</td>\n",
       "      <td>2020-03-02</td>\n",
       "      <td>8531415</td>\n",
       "      <td>134.30</td>\n",
       "    </tr>\n",
       "    <tr>\n",
       "      <th>11</th>\n",
       "      <td>IBM</td>\n",
       "      <td>2020-02-28</td>\n",
       "      <td>13012228</td>\n",
       "      <td>130.15</td>\n",
       "    </tr>\n",
       "    <tr>\n",
       "      <th>12</th>\n",
       "      <td>IBM</td>\n",
       "      <td>2020-02-27</td>\n",
       "      <td>8421125</td>\n",
       "      <td>133.11</td>\n",
       "    </tr>\n",
       "    <tr>\n",
       "      <th>13</th>\n",
       "      <td>IBM</td>\n",
       "      <td>2020-02-26</td>\n",
       "      <td>5409537</td>\n",
       "      <td>139.75</td>\n",
       "    </tr>\n",
       "    <tr>\n",
       "      <th>14</th>\n",
       "      <td>IBM</td>\n",
       "      <td>2020-02-25</td>\n",
       "      <td>6211547</td>\n",
       "      <td>141.71</td>\n",
       "    </tr>\n",
       "    <tr>\n",
       "      <th>15</th>\n",
       "      <td>IBM</td>\n",
       "      <td>2020-02-24</td>\n",
       "      <td>5452408</td>\n",
       "      <td>146.43</td>\n",
       "    </tr>\n",
       "    <tr>\n",
       "      <th>16</th>\n",
       "      <td>IBM</td>\n",
       "      <td>2020-02-21</td>\n",
       "      <td>3537258</td>\n",
       "      <td>149.84</td>\n",
       "    </tr>\n",
       "    <tr>\n",
       "      <th>17</th>\n",
       "      <td>IBM</td>\n",
       "      <td>2020-02-20</td>\n",
       "      <td>2880709</td>\n",
       "      <td>151.22</td>\n",
       "    </tr>\n",
       "    <tr>\n",
       "      <th>18</th>\n",
       "      <td>IBM</td>\n",
       "      <td>2020-02-19</td>\n",
       "      <td>2733277</td>\n",
       "      <td>150.86</td>\n",
       "    </tr>\n",
       "    <tr>\n",
       "      <th>19</th>\n",
       "      <td>IBM</td>\n",
       "      <td>2020-02-18</td>\n",
       "      <td>3343514</td>\n",
       "      <td>151.10</td>\n",
       "    </tr>\n",
       "    <tr>\n",
       "      <th>20</th>\n",
       "      <td>IBM</td>\n",
       "      <td>2020-02-14</td>\n",
       "      <td>6099244</td>\n",
       "      <td>150.70</td>\n",
       "    </tr>\n",
       "    <tr>\n",
       "      <th>21</th>\n",
       "      <td>IBM</td>\n",
       "      <td>2020-02-13</td>\n",
       "      <td>3820697</td>\n",
       "      <td>154.31</td>\n",
       "    </tr>\n",
       "    <tr>\n",
       "      <th>22</th>\n",
       "      <td>IBM</td>\n",
       "      <td>2020-02-12</td>\n",
       "      <td>4438007</td>\n",
       "      <td>155.31</td>\n",
       "    </tr>\n",
       "    <tr>\n",
       "      <th>23</th>\n",
       "      <td>IBM</td>\n",
       "      <td>2020-02-11</td>\n",
       "      <td>3835112</td>\n",
       "      <td>153.48</td>\n",
       "    </tr>\n",
       "    <tr>\n",
       "      <th>24</th>\n",
       "      <td>IBM</td>\n",
       "      <td>2020-02-10</td>\n",
       "      <td>5239807</td>\n",
       "      <td>154.43</td>\n",
       "    </tr>\n",
       "    <tr>\n",
       "      <th>25</th>\n",
       "      <td>IBM</td>\n",
       "      <td>2020-02-07</td>\n",
       "      <td>6423429</td>\n",
       "      <td>153.41</td>\n",
       "    </tr>\n",
       "    <tr>\n",
       "      <th>26</th>\n",
       "      <td>IBM</td>\n",
       "      <td>2020-02-06</td>\n",
       "      <td>8400545</td>\n",
       "      <td>156.76</td>\n",
       "    </tr>\n",
       "    <tr>\n",
       "      <th>27</th>\n",
       "      <td>IBM</td>\n",
       "      <td>2020-02-05</td>\n",
       "      <td>14386823</td>\n",
       "      <td>156.33</td>\n",
       "    </tr>\n",
       "    <tr>\n",
       "      <th>28</th>\n",
       "      <td>IBM</td>\n",
       "      <td>2020-02-04</td>\n",
       "      <td>5620966</td>\n",
       "      <td>149.11</td>\n",
       "    </tr>\n",
       "    <tr>\n",
       "      <th>29</th>\n",
       "      <td>IBM</td>\n",
       "      <td>2020-02-03</td>\n",
       "      <td>8887502</td>\n",
       "      <td>146.27</td>\n",
       "    </tr>\n",
       "    <tr>\n",
       "      <th>...</th>\n",
       "      <td>...</td>\n",
       "      <td>...</td>\n",
       "      <td>...</td>\n",
       "      <td>...</td>\n",
       "    </tr>\n",
       "    <tr>\n",
       "      <th>743</th>\n",
       "      <td>IBM</td>\n",
       "      <td>2017-03-31</td>\n",
       "      <td>2913684</td>\n",
       "      <td>174.14</td>\n",
       "    </tr>\n",
       "    <tr>\n",
       "      <th>744</th>\n",
       "      <td>IBM</td>\n",
       "      <td>2017-03-30</td>\n",
       "      <td>3168254</td>\n",
       "      <td>173.86</td>\n",
       "    </tr>\n",
       "    <tr>\n",
       "      <th>745</th>\n",
       "      <td>IBM</td>\n",
       "      <td>2017-03-29</td>\n",
       "      <td>3085606</td>\n",
       "      <td>173.94</td>\n",
       "    </tr>\n",
       "    <tr>\n",
       "      <th>746</th>\n",
       "      <td>IBM</td>\n",
       "      <td>2017-03-28</td>\n",
       "      <td>3523870</td>\n",
       "      <td>174.51</td>\n",
       "    </tr>\n",
       "    <tr>\n",
       "      <th>747</th>\n",
       "      <td>IBM</td>\n",
       "      <td>2017-03-27</td>\n",
       "      <td>3259049</td>\n",
       "      <td>173.77</td>\n",
       "    </tr>\n",
       "    <tr>\n",
       "      <th>748</th>\n",
       "      <td>IBM</td>\n",
       "      <td>2017-03-24</td>\n",
       "      <td>3221675</td>\n",
       "      <td>173.83</td>\n",
       "    </tr>\n",
       "    <tr>\n",
       "      <th>749</th>\n",
       "      <td>IBM</td>\n",
       "      <td>2017-03-23</td>\n",
       "      <td>3739976</td>\n",
       "      <td>174.82</td>\n",
       "    </tr>\n",
       "    <tr>\n",
       "      <th>750</th>\n",
       "      <td>IBM</td>\n",
       "      <td>2017-03-22</td>\n",
       "      <td>3450512</td>\n",
       "      <td>174.78</td>\n",
       "    </tr>\n",
       "    <tr>\n",
       "      <th>751</th>\n",
       "      <td>IBM</td>\n",
       "      <td>2017-03-21</td>\n",
       "      <td>3927741</td>\n",
       "      <td>173.88</td>\n",
       "    </tr>\n",
       "    <tr>\n",
       "      <th>752</th>\n",
       "      <td>IBM</td>\n",
       "      <td>2017-03-20</td>\n",
       "      <td>2476125</td>\n",
       "      <td>175.70</td>\n",
       "    </tr>\n",
       "    <tr>\n",
       "      <th>753</th>\n",
       "      <td>IBM</td>\n",
       "      <td>2017-03-17</td>\n",
       "      <td>5920967</td>\n",
       "      <td>175.65</td>\n",
       "    </tr>\n",
       "    <tr>\n",
       "      <th>754</th>\n",
       "      <td>IBM</td>\n",
       "      <td>2017-03-16</td>\n",
       "      <td>4311848</td>\n",
       "      <td>177.24</td>\n",
       "    </tr>\n",
       "    <tr>\n",
       "      <th>755</th>\n",
       "      <td>IBM</td>\n",
       "      <td>2017-03-15</td>\n",
       "      <td>3815537</td>\n",
       "      <td>175.81</td>\n",
       "    </tr>\n",
       "    <tr>\n",
       "      <th>756</th>\n",
       "      <td>IBM</td>\n",
       "      <td>2017-03-14</td>\n",
       "      <td>3147497</td>\n",
       "      <td>175.72</td>\n",
       "    </tr>\n",
       "    <tr>\n",
       "      <th>757</th>\n",
       "      <td>IBM</td>\n",
       "      <td>2017-03-13</td>\n",
       "      <td>3482189</td>\n",
       "      <td>176.46</td>\n",
       "    </tr>\n",
       "    <tr>\n",
       "      <th>758</th>\n",
       "      <td>IBM</td>\n",
       "      <td>2017-03-10</td>\n",
       "      <td>3100326</td>\n",
       "      <td>177.83</td>\n",
       "    </tr>\n",
       "    <tr>\n",
       "      <th>759</th>\n",
       "      <td>IBM</td>\n",
       "      <td>2017-03-09</td>\n",
       "      <td>5444076</td>\n",
       "      <td>177.18</td>\n",
       "    </tr>\n",
       "    <tr>\n",
       "      <th>760</th>\n",
       "      <td>IBM</td>\n",
       "      <td>2017-03-08</td>\n",
       "      <td>3557396</td>\n",
       "      <td>179.45</td>\n",
       "    </tr>\n",
       "    <tr>\n",
       "      <th>761</th>\n",
       "      <td>IBM</td>\n",
       "      <td>2017-03-07</td>\n",
       "      <td>2980516</td>\n",
       "      <td>180.38</td>\n",
       "    </tr>\n",
       "    <tr>\n",
       "      <th>762</th>\n",
       "      <td>IBM</td>\n",
       "      <td>2017-03-06</td>\n",
       "      <td>3204434</td>\n",
       "      <td>180.47</td>\n",
       "    </tr>\n",
       "    <tr>\n",
       "      <th>763</th>\n",
       "      <td>IBM</td>\n",
       "      <td>2017-03-03</td>\n",
       "      <td>1825048</td>\n",
       "      <td>180.05</td>\n",
       "    </tr>\n",
       "    <tr>\n",
       "      <th>764</th>\n",
       "      <td>IBM</td>\n",
       "      <td>2017-03-02</td>\n",
       "      <td>2918183</td>\n",
       "      <td>180.53</td>\n",
       "    </tr>\n",
       "    <tr>\n",
       "      <th>765</th>\n",
       "      <td>IBM</td>\n",
       "      <td>2017-03-01</td>\n",
       "      <td>3005564</td>\n",
       "      <td>181.95</td>\n",
       "    </tr>\n",
       "    <tr>\n",
       "      <th>766</th>\n",
       "      <td>IBM</td>\n",
       "      <td>2017-02-28</td>\n",
       "      <td>3273420</td>\n",
       "      <td>179.82</td>\n",
       "    </tr>\n",
       "    <tr>\n",
       "      <th>767</th>\n",
       "      <td>IBM</td>\n",
       "      <td>2017-02-27</td>\n",
       "      <td>3691327</td>\n",
       "      <td>179.40</td>\n",
       "    </tr>\n",
       "    <tr>\n",
       "      <th>768</th>\n",
       "      <td>IBM</td>\n",
       "      <td>2017-02-24</td>\n",
       "      <td>3300093</td>\n",
       "      <td>181.35</td>\n",
       "    </tr>\n",
       "    <tr>\n",
       "      <th>769</th>\n",
       "      <td>IBM</td>\n",
       "      <td>2017-02-23</td>\n",
       "      <td>2282526</td>\n",
       "      <td>181.65</td>\n",
       "    </tr>\n",
       "    <tr>\n",
       "      <th>770</th>\n",
       "      <td>IBM</td>\n",
       "      <td>2017-02-22</td>\n",
       "      <td>3020540</td>\n",
       "      <td>181.15</td>\n",
       "    </tr>\n",
       "    <tr>\n",
       "      <th>771</th>\n",
       "      <td>IBM</td>\n",
       "      <td>2017-02-21</td>\n",
       "      <td>4480299</td>\n",
       "      <td>180.26</td>\n",
       "    </tr>\n",
       "    <tr>\n",
       "      <th>772</th>\n",
       "      <td>IBM</td>\n",
       "      <td>2017-02-17</td>\n",
       "      <td>3552495</td>\n",
       "      <td>180.67</td>\n",
       "    </tr>\n",
       "  </tbody>\n",
       "</table>\n",
       "<p>773 rows × 4 columns</p>\n",
       "</div>"
      ],
      "text/plain": [
       "    Instrument   Calc Date    Volume  Price Close\n",
       "0          IBM  2020-03-16  10547313        99.08\n",
       "1          IBM  2020-03-13  12502113       107.95\n",
       "2          IBM  2020-03-12  12512655       102.81\n",
       "3          IBM  2020-03-11   8451038       117.97\n",
       "4          IBM  2020-03-10  11410688       124.77\n",
       "5          IBM  2020-03-09  10757487       117.81\n",
       "6          IBM  2020-03-06   8193257       127.73\n",
       "7          IBM  2020-03-05   5446227       129.55\n",
       "8          IBM  2020-03-04   4996370       134.22\n",
       "9          IBM  2020-03-03   7896068       128.90\n",
       "10         IBM  2020-03-02   8531415       134.30\n",
       "11         IBM  2020-02-28  13012228       130.15\n",
       "12         IBM  2020-02-27   8421125       133.11\n",
       "13         IBM  2020-02-26   5409537       139.75\n",
       "14         IBM  2020-02-25   6211547       141.71\n",
       "15         IBM  2020-02-24   5452408       146.43\n",
       "16         IBM  2020-02-21   3537258       149.84\n",
       "17         IBM  2020-02-20   2880709       151.22\n",
       "18         IBM  2020-02-19   2733277       150.86\n",
       "19         IBM  2020-02-18   3343514       151.10\n",
       "20         IBM  2020-02-14   6099244       150.70\n",
       "21         IBM  2020-02-13   3820697       154.31\n",
       "22         IBM  2020-02-12   4438007       155.31\n",
       "23         IBM  2020-02-11   3835112       153.48\n",
       "24         IBM  2020-02-10   5239807       154.43\n",
       "25         IBM  2020-02-07   6423429       153.41\n",
       "26         IBM  2020-02-06   8400545       156.76\n",
       "27         IBM  2020-02-05  14386823       156.33\n",
       "28         IBM  2020-02-04   5620966       149.11\n",
       "29         IBM  2020-02-03   8887502       146.27\n",
       "..         ...         ...       ...          ...\n",
       "743        IBM  2017-03-31   2913684       174.14\n",
       "744        IBM  2017-03-30   3168254       173.86\n",
       "745        IBM  2017-03-29   3085606       173.94\n",
       "746        IBM  2017-03-28   3523870       174.51\n",
       "747        IBM  2017-03-27   3259049       173.77\n",
       "748        IBM  2017-03-24   3221675       173.83\n",
       "749        IBM  2017-03-23   3739976       174.82\n",
       "750        IBM  2017-03-22   3450512       174.78\n",
       "751        IBM  2017-03-21   3927741       173.88\n",
       "752        IBM  2017-03-20   2476125       175.70\n",
       "753        IBM  2017-03-17   5920967       175.65\n",
       "754        IBM  2017-03-16   4311848       177.24\n",
       "755        IBM  2017-03-15   3815537       175.81\n",
       "756        IBM  2017-03-14   3147497       175.72\n",
       "757        IBM  2017-03-13   3482189       176.46\n",
       "758        IBM  2017-03-10   3100326       177.83\n",
       "759        IBM  2017-03-09   5444076       177.18\n",
       "760        IBM  2017-03-08   3557396       179.45\n",
       "761        IBM  2017-03-07   2980516       180.38\n",
       "762        IBM  2017-03-06   3204434       180.47\n",
       "763        IBM  2017-03-03   1825048       180.05\n",
       "764        IBM  2017-03-02   2918183       180.53\n",
       "765        IBM  2017-03-01   3005564       181.95\n",
       "766        IBM  2017-02-28   3273420       179.82\n",
       "767        IBM  2017-02-27   3691327       179.40\n",
       "768        IBM  2017-02-24   3300093       181.35\n",
       "769        IBM  2017-02-23   2282526       181.65\n",
       "770        IBM  2017-02-22   3020540       181.15\n",
       "771        IBM  2017-02-21   4480299       180.26\n",
       "772        IBM  2017-02-17   3552495       180.67\n",
       "\n",
       "[773 rows x 4 columns]"
      ]
     },
     "execution_count": 352,
     "metadata": {},
     "output_type": "execute_result"
    }
   ],
   "source": [
    "dfDtVolPrice, err = ek.get_data(RIC, 'TR.PriceClose.CalcDate,TR.Volume,TR.PriceClose',{'Sdate':'0D','Edate':laterDate2[:10],'Frq':'D'})\n",
    "dfDtVolPrice                                                          "
   ]
  },
  {
   "cell_type": "code",
   "execution_count": null,
   "metadata": {},
   "outputs": [],
   "source": []
  }
 ],
 "metadata": {
  "kernelspec": {
   "display_name": "Python 3",
   "language": "python",
   "name": "python3"
  },
  "language_info": {
   "codemirror_mode": {
    "name": "ipython",
    "version": 3
   },
   "file_extension": ".py",
   "mimetype": "text/x-python",
   "name": "python",
   "nbconvert_exporter": "python",
   "pygments_lexer": "ipython3",
   "version": "3.7.3"
  }
 },
 "nbformat": 4,
 "nbformat_minor": 2
}
